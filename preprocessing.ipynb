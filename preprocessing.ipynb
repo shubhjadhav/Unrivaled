{
 "cells": [
  {
   "cell_type": "code",
   "execution_count": null,
   "metadata": {},
   "outputs": [],
   "source": []
  },
  {
   "cell_type": "markdown",
   "metadata": {},
   "source": [
    "Get input\n",
    "Preprocess\n",
    "vectorize\n",
    "similiarity\n"
   ]
  },
  {
   "cell_type": "code",
   "execution_count": 2,
   "metadata": {},
   "outputs": [
    {
     "name": "stderr",
     "output_type": "stream",
     "text": [
      "\u001b[32m\u001b[1m    Updating\u001b[22m\u001b[39m registry at `C:\\Users\\Jahnavi Ramagiri\\.julia\\registries\\General.toml`\n"
     ]
    },
    {
     "name": "stderr",
     "output_type": "stream",
     "text": [
      "\u001b[32m\u001b[1m   Resolving\u001b[22m\u001b[39m package versions..."
     ]
    },
    {
     "name": "stderr",
     "output_type": "stream",
     "text": [
      "\n",
      "\u001b[32m\u001b[1m  No Changes\u001b[22m\u001b[39m to `C:\\Users\\Jahnavi Ramagiri\\.julia\\environments\\v1.8\\Project.toml`\n",
      "\u001b[32m\u001b[1m  No Changes\u001b[22m\u001b[39m to `C:\\Users\\Jahnavi Ramagiri\\.julia\\environments\\v1.8\\Manifest.toml`\n"
     ]
    }
   ],
   "source": [
    "import Pkg\n",
    "Pkg.add(\"PDFIO\")"
   ]
  },
  {
   "cell_type": "code",
   "execution_count": 54,
   "metadata": {},
   "outputs": [],
   "source": [
    "using PDFIO\n",
    "using TextAnalysis "
   ]
  },
  {
   "cell_type": "code",
   "execution_count": 47,
   "metadata": {},
   "outputs": [
    {
     "data": {
      "text/plain": [
       "\"C:\\\\Users\\\\Jahnavi Ramagiri\\\\Desktop\\\\Julia\""
      ]
     },
     "metadata": {},
     "output_type": "display_data"
    }
   ],
   "source": [
    "const fpath = \"C:\\\\Users\\\\Jahnavi Ramagiri\\\\Desktop\\\\Julia\""
   ]
  },
  {
   "cell_type": "code",
   "execution_count": 48,
   "metadata": {},
   "outputs": [
    {
     "data": {
      "text/plain": [
       "getPDFText"
      ]
     },
     "metadata": {},
     "output_type": "display_data"
    }
   ],
   "source": [
    "\"\"\"\n",
    "​```\n",
    "    getPDFText(src, out) -> Dict \n",
    "​```\n",
    "- src - Input PDF file path from where text is to be extracted\n",
    "- out - Output TXT file path where the output will be written\n",
    "return - A dictionary containing metadata of the document\n",
    "\"\"\"\n",
    "function getPDFText(src, out)\n",
    "    # handle that can be used for subsequence operations on the document.\n",
    "    doc = pdDocOpen(src)\n",
    "    s = \"\"\n",
    "    \n",
    "    # Metadata extracted from the PDF document. \n",
    "    # This value is retained and returned as the return from the function. \n",
    "    docinfo = pdDocGetInfo(doc) \n",
    "    open(out, \"w\") do io\n",
    "    \n",
    "        # Returns number of pages in the document       \n",
    "        npage = pdDocGetPageCount(doc)\n",
    "\n",
    "        for i=1:npage\n",
    "            s1 = \"\"\n",
    "        \n",
    "            # handle to the specific page given the number index. \n",
    "            page = pdDocGetPage(doc, i)\n",
    "            # print(page)\n",
    "            \n",
    "            # Extract text from the page and write it to the output file.\n",
    "            # io_ = IOBuffer()\n",
    "            pdPageExtractText(io, page)\n",
    "            # s1 = String(take!(io_))\n",
    "            # print(s1)\n",
    "            # s = s*s1\n",
    "            # s = s * s1\n",
    "\n",
    "        end\n",
    "    end\n",
    "    # Close the document handle. \n",
    "    # The doc handle should not be used after this call\n",
    "    pdDocClose(doc)\n",
    "\n",
    "    f = open(out)    \n",
    "    s_resume = read(f, String)\n",
    "    \n",
    "    return s_resume\n",
    "end"
   ]
  },
  {
   "cell_type": "code",
   "execution_count": 49,
   "metadata": {},
   "outputs": [
    {
     "data": {
      "text/plain": [
       "preprocess_string (generic function with 1 method)"
      ]
     },
     "metadata": {},
     "output_type": "display_data"
    }
   ],
   "source": [
    "function preprocess_string(str, flags)\n",
    "    str_doc = StringDocument(str)\n",
    "    # prepare!(str_doc, strip_punctuation)\n",
    "    prepare!(str_doc, flags)\n",
    "    return str_doc\n",
    "end\n"
   ]
  },
  {
   "cell_type": "code",
   "execution_count": 50,
   "metadata": {},
   "outputs": [
    {
     "data": {
      "text/plain": [
       "get_path (generic function with 1 method)"
      ]
     },
     "metadata": {},
     "output_type": "display_data"
    }
   ],
   "source": [
    "function get_path(fpath, user_name, file_name)\n",
    "    path = fpath * \"\\\\\" * user_name * \"\\\\\" * file_name\n",
    "    return path\n",
    "end"
   ]
  },
  {
   "cell_type": "code",
   "execution_count": 51,
   "metadata": {},
   "outputs": [
    {
     "data": {
      "text/plain": [
       "process_file (generic function with 1 method)"
      ]
     },
     "metadata": {},
     "output_type": "display_data"
    }
   ],
   "source": [
    "function process_file(userid, resume_name, jd_name)\n",
    "\n",
    "    flags = strip_punctuation|strip_articles|strip_punctuation|strip_whitespace\n",
    "\n",
    "    # // Get file extensions\n",
    "    resume_ext = split(resume_name, '.')[2]\n",
    "    jd_ext = split(jd_name, '.')[2]\n",
    "\n",
    "    # // Get file paths\n",
    "    resume_path = get_path(fpath, userid, resume_name)\n",
    "    jd_path = get_path(fpath, userid, jd_name)\n",
    "\n",
    "\n",
    "    # // Extrcat text from input files \n",
    "    if resume_ext == \"pdf\"\n",
    "        resume_out_path = get_path(fpath, userid, \"out_\" * resume_name)\n",
    "        s_resume = getPDFText(resume_path, resume_out_path)\n",
    "        print(\"PDF Processed and stored at $resume_out_path\")\n",
    "\n",
    "    else\n",
    "        s_resume = Docx.read(document, String)\n",
    "    end\n",
    "\n",
    "\n",
    "    if jd_ext == \"pdf\"\n",
    "        jd_out_path = get_path(fpath, userid, \"out_\" * jd_name)\n",
    "        s_jd = getPDFText(jd_path, jd_out_path)\n",
    "        print(\"PDF Processed and stored at $jd_out_path\")\n",
    "\n",
    "    else\n",
    "        s_jd = Docx.read(document, String)\n",
    "    end\n",
    "\n",
    "    # // Preprocess Strings\n",
    "    pp_resume = preprocess_string(s_resume, flags)\n",
    "    print(\"Preprocessed Resume $pp_resume\")\n",
    "    text(pp_resume)\n",
    "   \n",
    "    pp_jd = preprocess_string(s_jd, flags)\n",
    "    print(\"Preprocessed Resume $pp_jd\")\n",
    "    text(pp_jd)\n",
    "\n",
    "    return [pp_resume, pp_jd]\n",
    "\n",
    "    \n",
    "\n",
    "end\n",
    "\n",
    "    "
   ]
  },
  {
   "cell_type": "code",
   "execution_count": 52,
   "metadata": {},
   "outputs": [
    {
     "data": {
      "text/plain": [
       "\"jd.docx\""
      ]
     },
     "metadata": {},
     "output_type": "display_data"
    }
   ],
   "source": [
    "# resume_path = \"C:\\\\Users\\\\Jahnavi Ramagiri\\\\Desktop\\\\Julia\\\\Resume_30082022.pdf\"\n",
    "# # out = \"C:\\\\Users\\\\Jahnavi Ramagiri\\\\Desktop\\\\Julia\\\\sample.txt\"\n",
    "# jd_path = \"C:\\\\Users\\\\Jahnavi Ramagiri\\\\Desktop\\\\Julia\\\\\"\n",
    "\n",
    "userid = \"Jahnavi\"\n",
    "resume_name = \"r1.pdf\"\n",
    "jd_name = \"jd.docx\"\n",
    "\n",
    "\n",
    "\n",
    "\n",
    "# s1 = String(take!(io_))"
   ]
  },
  {
   "cell_type": "code",
   "execution_count": 55,
   "metadata": {},
   "outputs": [
    {
     "name": "stdout",
     "output_type": "stream",
     "text": [
      "PDF Processed and stored at C:\\Users\\Jahnavi Ramagiri\\Desktop\\Julia\\Jahnavi\\out_r1.pdfPreprocessed Resume A StringDocument{String}Preprocessed Resume A StringDocument{String}"
     ]
    },
    {
     "data": {
      "text/plain": [
       "2-element Vector{StringDocument{String}}:\n",
       " A StringDocument{String}\n",
       " A StringDocument{String}"
      ]
     },
     "metadata": {},
     "output_type": "display_data"
    }
   ],
   "source": [
    "str_list = process_file(userid, resume_name, jd_name)\n"
   ]
  },
  {
   "cell_type": "code",
   "execution_count": 4,
   "metadata": {},
   "outputs": [
    {
     "data": {
      "text/plain": [
       "\"C:\\\\Users\\\\Jahnavi Ramagiri\\\\Desktop\\\\Julia\\\\Jahnavi\\\\resume123.pdf\""
      ]
     },
     "metadata": {},
     "output_type": "display_data"
    }
   ],
   "source": [
    "user_name = \"Jahnavi\"\n",
    "file_name = \"resume123.pdf\"\n",
    "path = fpath * \"\\\\\" * user_name * \"\\\\\" * file_name"
   ]
  },
  {
   "cell_type": "code",
   "execution_count": 7,
   "metadata": {},
   "outputs": [
    {
     "data": {
      "text/plain": [
       "2-element Vector{SubString{String}}:\n",
       " \"resume123\"\n",
       " \"pdf\""
      ]
     },
     "metadata": {},
     "output_type": "display_data"
    }
   ],
   "source": [
    "file_ext = split(file_name, '.')"
   ]
  },
  {
   "cell_type": "code",
   "execution_count": 11,
   "metadata": {},
   "outputs": [
    {
     "data": {
      "text/plain": [
       "\"pdf\""
      ]
     },
     "metadata": {},
     "output_type": "display_data"
    }
   ],
   "source": [
    "file_ext[2]"
   ]
  },
  {
   "cell_type": "code",
   "execution_count": 123,
   "metadata": {},
   "outputs": [
    {
     "name": "stderr",
     "output_type": "stream",
     "text": [
      "\u001b[32m\u001b[1m   Resolving\u001b[22m\u001b[39m package versions..."
     ]
    },
    {
     "name": "stderr",
     "output_type": "stream",
     "text": [
      "\n"
     ]
    },
    {
     "name": "stderr",
     "output_type": "stream",
     "text": [
      "\u001b[32m\u001b[1m   Installed\u001b[22m\u001b[39m RecipesBase ────── v1.3.1\n"
     ]
    },
    {
     "name": "stderr",
     "output_type": "stream",
     "text": [
      "\u001b[32m\u001b[1m   Installed\u001b[22m\u001b[39m IterativeSolvers ─ v0.9.2\n"
     ]
    },
    {
     "name": "stderr",
     "output_type": "stream",
     "text": [
      "\u001b[32m\u001b[1m    Updating\u001b[22m\u001b[39m `C:\\Users\\Jahnavi Ramagiri\\.julia\\environments\\v1.8\\Project.toml`\n"
     ]
    },
    {
     "name": "stderr",
     "output_type": "stream",
     "text": [
      " \u001b[90m [42fd0dbc] \u001b[39m\u001b[92m+ IterativeSolvers v0.9.2\u001b[39m\n",
      "\u001b[32m\u001b[1m    Updating\u001b[22m\u001b[39m `C:\\Users\\Jahnavi Ramagiri\\.julia\\environments\\v1.8\\Manifest.toml`"
     ]
    },
    {
     "name": "stderr",
     "output_type": "stream",
     "text": [
      "\n",
      " \u001b[90m [42fd0dbc] \u001b[39m\u001b[92m+ IterativeSolvers v0.9.2\u001b[39m\n",
      " \u001b[90m [3cdcf5f2] \u001b[39m\u001b[92m+ RecipesBase v1.3.1\u001b[39m\n"
     ]
    },
    {
     "name": "stderr",
     "output_type": "stream",
     "text": [
      "\u001b[32m\u001b[1mPrecompiling\u001b[22m\u001b[39m "
     ]
    },
    {
     "name": "stderr",
     "output_type": "stream",
     "text": [
      "project..."
     ]
    },
    {
     "name": "stderr",
     "output_type": "stream",
     "text": [
      "\n"
     ]
    },
    {
     "name": "stderr",
     "output_type": "stream",
     "text": [
      "\u001b[32m  ✓ \u001b[39m\u001b[90mRecipesBase\u001b[39m\n"
     ]
    },
    {
     "name": "stderr",
     "output_type": "stream",
     "text": [
      "\u001b[32m  ✓ \u001b[39mIterativeSolvers"
     ]
    },
    {
     "name": "stderr",
     "output_type": "stream",
     "text": [
      "\n",
      "  2 dependencies successfully precompiled in 15 seconds. 97 already precompiled.\n"
     ]
    }
   ],
   "source": [
    "Pkg.add(\"IterativeSolvers\")"
   ]
  },
  {
   "cell_type": "code",
   "execution_count": 12,
   "metadata": {},
   "outputs": [
    {
     "name": "stderr",
     "output_type": "stream",
     "text": [
      "\u001b[32m\u001b[1m    Updating\u001b[22m\u001b[39m registry at `C:\\Users\\Jahnavi Ramagiri\\.julia\\registries\\General.toml`"
     ]
    },
    {
     "name": "stderr",
     "output_type": "stream",
     "text": [
      "\n"
     ]
    },
    {
     "name": "stderr",
     "output_type": "stream",
     "text": [
      "\u001b[32m\u001b[1m   Resolving\u001b[22m\u001b[39m package versions...\n"
     ]
    },
    {
     "name": "stderr",
     "output_type": "stream",
     "text": [
      "\u001b[32m\u001b[1m   Installed\u001b[22m\u001b[39m XML2_jll ───── v2.9.14+0\n",
      "\u001b[32m\u001b[1m   Installed\u001b[22m\u001b[39m Libiconv_jll ─ v1.16.1+1\n",
      "\u001b[32m\u001b[1m   Installed\u001b[22m\u001b[39m EzXML ──────── v1.1.0\n"
     ]
    },
    {
     "name": "stderr",
     "output_type": "stream",
     "text": [
      "\u001b[32m\u001b[1m   Installed\u001b[22m\u001b[39m ZipFile ────── v0.9.4\n",
      "\u001b[32m\u001b[1m   Installed\u001b[22m\u001b[39m Docx ───────── v0.1.0\n"
     ]
    },
    {
     "name": "stderr",
     "output_type": "stream",
     "text": [
      "\u001b[32m\u001b[1m    Updating\u001b[22m\u001b[39m `C:\\Users\\Jahnavi Ramagiri\\.julia\\environments\\v1.8\\Project.toml`"
     ]
    },
    {
     "name": "stderr",
     "output_type": "stream",
     "text": [
      "\n",
      " \u001b[90m [cae6eaf6] \u001b[39m\u001b[92m+ Docx v0.1.0\u001b[39m\n",
      "\u001b[32m\u001b[1m    Updating\u001b[22m\u001b[39m "
     ]
    },
    {
     "name": "stderr",
     "output_type": "stream",
     "text": [
      "`C:\\Users\\Jahnavi Ramagiri\\.julia\\environments\\v1.8\\Manifest.toml`\n"
     ]
    },
    {
     "name": "stderr",
     "output_type": "stream",
     "text": [
      " \u001b[90m [cae6eaf6] \u001b[39m\u001b[92m+ Docx v0.1.0\u001b[39m\n",
      " \u001b[90m [8f5d6c58] \u001b[39m\u001b[92m+ EzXML v1.1.0\u001b[39m\n",
      "\u001b[33m⌅\u001b[39m\u001b[90m [a5390f91] \u001b[39m\u001b[92m+ ZipFile v0.9.4\u001b[39m\n",
      " \u001b[90m [94ce4f54] \u001b[39m\u001b[92m+ Libiconv_jll v1.16.1+1\u001b[39m\n",
      " \u001b[90m [02c8fc9c] \u001b[39m\u001b[92m+ XML2_jll v2.9.14+0\u001b[39m\n",
      "\u001b[36m\u001b[1m        Info\u001b[22m\u001b[39m Packages marked with \u001b[33m⌅\u001b[39m have new versions available but cannot be upgraded. To see why use `status --outdated -m`"
     ]
    },
    {
     "name": "stderr",
     "output_type": "stream",
     "text": [
      "\n",
      "\u001b[32m\u001b[1mPrecompiling\u001b[22m\u001b[39m"
     ]
    },
    {
     "name": "stderr",
     "output_type": "stream",
     "text": [
      " "
     ]
    },
    {
     "name": "stderr",
     "output_type": "stream",
     "text": [
      "project..."
     ]
    },
    {
     "name": "stderr",
     "output_type": "stream",
     "text": [
      "\n"
     ]
    },
    {
     "name": "stderr",
     "output_type": "stream",
     "text": [
      "\u001b[32m  ✓ \u001b[39m\u001b[90mLibiconv_jll\u001b[39m\n"
     ]
    },
    {
     "name": "stderr",
     "output_type": "stream",
     "text": [
      "\u001b[32m  ✓ \u001b[39m\u001b[90mZipFile\u001b[39m\n"
     ]
    },
    {
     "name": "stderr",
     "output_type": "stream",
     "text": [
      "\u001b[32m  ✓ \u001b[39m\u001b[90mXML2_jll\u001b[39m\n"
     ]
    },
    {
     "name": "stderr",
     "output_type": "stream",
     "text": [
      "\u001b[32m  ✓ \u001b[39m\u001b[90mEzXML\u001b[39m\n"
     ]
    },
    {
     "name": "stderr",
     "output_type": "stream",
     "text": [
      "\u001b[32m  ✓ \u001b[39mDocx\n",
      "  5 dependencies successfully precompiled in 17 seconds. 83 already precompiled.\n"
     ]
    }
   ],
   "source": [
    "using Pkg\n",
    "Pkg.add(\"Docx\")"
   ]
  },
  {
   "cell_type": "code",
   "execution_count": 13,
   "metadata": {},
   "outputs": [
    {
     "data": {
      "text/plain": [
       "\"C:\\\\Users\\\\Jahnavi Ramagiri\\\\Desktop\\\\Julia\\\\JD1.docx\""
      ]
     },
     "metadata": {},
     "output_type": "display_data"
    }
   ],
   "source": [
    "path = \"C:\\\\Users\\\\Jahnavi Ramagiri\\\\Desktop\\\\Julia\\\\JD1.docx\""
   ]
  },
  {
   "cell_type": "code",
   "execution_count": 14,
   "metadata": {},
   "outputs": [
    {
     "data": {
      "text/plain": [
       "Docx.Document(Docx.DocxFile[Docx.DocxFile(ZipFile.ReadableFile(name=[Content_Types].xml, method=Deflate, uncompresssedsize=1445, compressedsize=358, mtime=3.155508e8), false, \"[Content_Types]\", \"xml\", nothing, nothing), Docx.DocxFile(ZipFile.ReadableFile(name=_rels/.rels, method=Deflate, uncompresssedsize=590, compressedsize=239, mtime=3.155508e8), false, \"_rels/\", \"rels\", nothing, nothing), Docx.DocxFile(ZipFile.ReadableFile(name=word/_rels/document.xml.rels, method=Deflate, uncompresssedsize=950, compressedsize=261, mtime=3.155508e8), false, \"word/_rels/document\", \"rels\", nothing, nothing), Docx.DocxFile(ZipFile.ReadableFile(name=word/document.xml, method=Deflate, uncompresssedsize=23842, compressedsize=2218, mtime=3.155508e8), false, \"word/document\", \"xml\", nothing, nothing), Docx.DocxFile(ZipFile.ReadableFile(name=word/theme/theme1.xml, method=Deflate, uncompresssedsize=6795, compressedsize=1571, mtime=3.155508e8), false, \"word/theme/theme1\", \"xml\", nothing, nothing), Docx.DocxFile(ZipFile.ReadableFile(name=word/settings.xml, method=Deflate, uncompresssedsize=2503, compressedsize=945, mtime=3.155508e8), false, \"word/settings\", \"xml\", nothing, nothing), Docx.DocxFile(ZipFile.ReadableFile(name=word/webSettings.xml, method=Deflate, uncompresssedsize=913, compressedsize=381, mtime=3.155508e8), false, \"word/webSettings\", \"xml\", nothing, nothing), Docx.DocxFile(ZipFile.ReadableFile(name=word/styles.xml, method=Deflate, uncompresssedsize=31241, compressedsize=3165, mtime=3.155508e8), false, \"word/styles\", \"xml\", nothing, nothing), Docx.DocxFile(ZipFile.ReadableFile(name=docProps/core.xml, method=Deflate, uncompresssedsize=761, compressedsize=370, mtime=3.155508e8), false, \"docProps/core\", \"xml\", nothing, nothing), Docx.DocxFile(ZipFile.ReadableFile(name=word/numbering.xml, method=Deflate, uncompresssedsize=7660, compressedsize=804, mtime=3.155508e8), false, \"word/numbering\", \"xml\", nothing, nothing), Docx.DocxFile(ZipFile.ReadableFile(name=word/fontTable.xml, method=Deflate, uncompresssedsize=2329, compressedsize=546, mtime=3.155508e8), false, \"word/fontTable\", \"xml\", nothing, nothing), Docx.DocxFile(ZipFile.ReadableFile(name=docProps/app.xml, method=Deflate, uncompresssedsize=986, compressedsize=474, mtime=3.155508e8), false, \"docProps/app\", \"xml\", nothing, nothing)])"
      ]
     },
     "metadata": {},
     "output_type": "display_data"
    }
   ],
   "source": [
    "using Docx\n",
    "\n",
    "document = Docx.open(path)"
   ]
  },
  {
   "cell_type": "code",
   "execution_count": 16,
   "metadata": {},
   "outputs": [
    {
     "data": {
      "text/plain": [
       "\"Machine Learning Engineer Job Description Template\\nWe are looking for a highly capable machine learning engineer to optimize our machine learning systems. You will be evaluating existing machine learning (ML) processes, performing statistical analysis to resolve data se\" ⋯ 1671 bytes ⋯ \"a structures, data modeling, and software architecture.\\nIn-depth knowledge of mathematics, statistics, and algorithms.\\nSuperb analytical and problem-solving abilities.\\nGreat communication and collaboration skills.\\nExcellent time management and organizational abilities.\\n\""
      ]
     },
     "metadata": {},
     "output_type": "display_data"
    }
   ],
   "source": [
    "# open(out, \"w\") do io\n",
    "\n",
    "\n",
    "a = Docx.read(document, String)"
   ]
  },
  {
   "cell_type": "code",
   "execution_count": 17,
   "metadata": {},
   "outputs": [
    {
     "data": {
      "text/plain": [
       "\"Machine Learning Engineer Job Description Template\\nWe are looking for a highly capable machine learning engineer to optimize our machine learning systems. You will be evaluating existing machine learning (ML) processes, performing statistical analysis to resolve data se\" ⋯ 1671 bytes ⋯ \"a structures, data modeling, and software architecture.\\nIn-depth knowledge of mathematics, statistics, and algorithms.\\nSuperb analytical and problem-solving abilities.\\nGreat communication and collaboration skills.\\nExcellent time management and organizational abilities.\\n\""
      ]
     },
     "metadata": {},
     "output_type": "display_data"
    }
   ],
   "source": [
    "a"
   ]
  },
  {
   "cell_type": "code",
   "execution_count": 19,
   "metadata": {},
   "outputs": [
    {
     "name": "stderr",
     "output_type": "stream",
     "text": [
      "\u001b[32m\u001b[1m   Resolving\u001b[22m\u001b[39m "
     ]
    },
    {
     "name": "stderr",
     "output_type": "stream",
     "text": [
      "package versions...\n"
     ]
    },
    {
     "name": "stderr",
     "output_type": "stream",
     "text": [
      "\u001b[32m\u001b[1m   Installed\u001b[22m\u001b[39m ScikitLearnBase ─ v0.5.0\n",
      "\u001b[32m\u001b[1m   Installed\u001b[22m\u001b[39m UnPack ────────── v1.0.2\n",
      "\u001b[32m\u001b[1m   Installed\u001b[22m\u001b[39m VersionParsing ── v1.3.0\n",
      "\u001b[32m\u001b[1m   Installed\u001b[22m\u001b[39m Conda ─────────── v1.7.0\n",
      "\u001b[32m\u001b[1m   Installed\u001b[22m\u001b[39m IterTools ─────── v1.4.0\n"
     ]
    },
    {
     "name": "stderr",
     "output_type": "stream",
     "text": [
      "\u001b[32m\u001b[1m   Installed\u001b[22m\u001b[39m MacroTools ────── v0.5.10\n"
     ]
    },
    {
     "name": "stderr",
     "output_type": "stream",
     "text": [
      "\u001b[32m\u001b[1m   Installed\u001b[22m\u001b[39m Parameters ────── v0.12.3\n"
     ]
    },
    {
     "name": "stderr",
     "output_type": "stream",
     "text": [
      "\u001b[32m\u001b[1m   Installed\u001b[22m\u001b[39m ScikitLearn ───── v0.6.5\n"
     ]
    },
    {
     "name": "stderr",
     "output_type": "stream",
     "text": [
      "\u001b[32m\u001b[1m   Installed\u001b[22m\u001b[39m PyCall ────────── v1.94.1\n",
      "\u001b[32m\u001b[1m    Updating\u001b[22m\u001b[39m `C:\\Users\\Jahnavi Ramagiri\\.julia\\environments\\v1.8\\Project.toml`\n",
      " \u001b[90m [3646fa90] \u001b[39m\u001b[92m+ ScikitLearn v0.6.5\u001b[39m\n",
      "\u001b[32m\u001b[1m    Updating\u001b[22m\u001b[39m `C:\\Users\\Jahnavi Ramagiri\\.julia\\environments\\v1.8\\Manifest.toml`"
     ]
    },
    {
     "name": "stderr",
     "output_type": "stream",
     "text": [
      "\n",
      " \u001b[90m [8f4d0f93] \u001b[39m\u001b[92m+ Conda v1.7.0\u001b[39m\n",
      " \u001b[90m [c8e1da08] \u001b[39m\u001b[92m+ IterTools v1.4.0\u001b[39m\n",
      " \u001b[90m [1914dd2f] \u001b[39m\u001b[92m+ MacroTools v0.5.10\u001b[39m\n",
      " \u001b[90m [d96e819e] \u001b[39m\u001b[92m+ Parameters v0.12.3\u001b[39m\n",
      " \u001b[90m [438e738f] \u001b[39m\u001b[92m+ PyCall v1.94.1\u001b[39m\n",
      " \u001b[90m [3646fa90] \u001b[39m\u001b[92m+ ScikitLearn v0.6.5\u001b[39m\n",
      " \u001b[90m [6e75b9c4] \u001b[39m\u001b[92m+ ScikitLearnBase v0.5.0\u001b[39m\n",
      " \u001b[90m [3a884ed6] \u001b[39m\u001b[92m+ UnPack v1.0.2\u001b[39m\n",
      " \u001b[90m [81def892] \u001b[39m\u001b[92m+ VersionParsing v1.3.0\u001b[39m"
     ]
    },
    {
     "name": "stderr",
     "output_type": "stream",
     "text": [
      "\n",
      "\u001b[32m\u001b[1m    Building\u001b[22m\u001b[39m Conda ─→ `C:\\Users\\Jahnavi Ramagiri\\.julia\\scratchspaces\\44cfe95a-1eb2-52ea-b672-e2afdf69b78f\\6e47d11ea2776bc5627421d59cdcc1296c058071\\build.log`\n"
     ]
    },
    {
     "name": "stderr",
     "output_type": "stream",
     "text": [
      "\u001b[32m\u001b[1m    Building\u001b[22m\u001b[39m PyCall → `C:\\Users\\Jahnavi Ramagiri\\.julia\\scratchspaces\\44cfe95a-1eb2-52ea-b672-e2afdf69b78f\\53b8b07b721b77144a0fbbbc2675222ebf40a02d\\build.log`\n"
     ]
    },
    {
     "name": "stderr",
     "output_type": "stream",
     "text": [
      "\u001b[32m\u001b[1mPrecompiling\u001b[22m\u001b[39m "
     ]
    },
    {
     "name": "stderr",
     "output_type": "stream",
     "text": [
      "project...\n"
     ]
    },
    {
     "name": "stderr",
     "output_type": "stream",
     "text": [
      "\u001b[32m  ✓ \u001b[39m\u001b[90mUnPack\u001b[39m\n"
     ]
    },
    {
     "name": "stderr",
     "output_type": "stream",
     "text": [
      "\u001b[32m  ✓ \u001b[39m\u001b[90mScikitLearnBase\u001b[39m\n"
     ]
    },
    {
     "name": "stderr",
     "output_type": "stream",
     "text": [
      "\u001b[32m  ✓ \u001b[39m\u001b[90mIterTools\u001b[39m\n"
     ]
    },
    {
     "name": "stderr",
     "output_type": "stream",
     "text": [
      "\u001b[32m  ✓ \u001b[39m\u001b[90mParameters\u001b[39m\n"
     ]
    },
    {
     "name": "stderr",
     "output_type": "stream",
     "text": [
      "\u001b[32m  ✓ \u001b[39m\u001b[90mMacroTools\u001b[39m\n"
     ]
    },
    {
     "name": "stderr",
     "output_type": "stream",
     "text": [
      "\u001b[32m  ✓ \u001b[39m\u001b[90mPyCall\u001b[39m\n"
     ]
    },
    {
     "name": "stderr",
     "output_type": "stream",
     "text": [
      "\u001b[32m  ✓ \u001b[39mScikitLearn\n",
      "  7 dependencies successfully precompiled in 57 seconds. 90 already precompiled.\n"
     ]
    }
   ],
   "source": [
    "Pkg.add(\"ScikitLearn\")"
   ]
  },
  {
   "cell_type": "code",
   "execution_count": 28,
   "metadata": {},
   "outputs": [
    {
     "name": "stderr",
     "output_type": "stream",
     "text": [
      "┌ Info: Installing sklearn via the Conda scikit-learn package...\n",
      "└ @ PyCall C:\\Users\\Jahnavi Ramagiri\\.julia\\packages\\PyCall\\ygXW2\\src\\PyCall.jl:719\n"
     ]
    },
    {
     "name": "stderr",
     "output_type": "stream",
     "text": [
      "┌ Info: Running `conda install -y scikit-learn` in root environment\n",
      "└ @ Conda C:\\Users\\Jahnavi Ramagiri\\.julia\\packages\\Conda\\x2UxR\\src\\Conda.jl:127\n"
     ]
    },
    {
     "name": "stdout",
     "output_type": "stream",
     "text": [
      "Collecting package metadata (current_repodata.json): ...working... "
     ]
    },
    {
     "name": "stdout",
     "output_type": "stream",
     "text": [
      "done\r\n",
      "Solving environment: ...working... "
     ]
    },
    {
     "name": "stdout",
     "output_type": "stream",
     "text": [
      "done\r\n"
     ]
    },
    {
     "name": "stdout",
     "output_type": "stream",
     "text": [
      "\r\n",
      "## Package Plan ##\r\n",
      "\r\n",
      "  environment location: C:\\Users\\Jahnavi Ramagiri\\.julia\\conda\\3\r\n",
      "\r\n",
      "  added / updated specs:\r\n",
      "    - scikit-learn\r\n",
      "\r\n",
      "\r\n",
      "The following packages will be downloaded:\r\n",
      "\r\n",
      "    package                    |            build\r\n",
      "    ---------------------------|-----------------\r\n",
      "    joblib-1.2.0               |     pyhd8ed1ab_0         205 KB  conda-forge\r\n",
      "    m2w64-gcc-libgfortran-5.3.0|                6         342 KB  conda-forge\r\n",
      "    m2w64-gcc-libs-5.3.0       |                7         520 KB  conda-forge\r\n",
      "    m2w64-gcc-libs-core-5.3.0  |                7         214 KB  conda-forge\r\n",
      "    m2w64-gmp-6.1.0            |                2         726 KB  conda-forge\r\n",
      "    m2w64-libwinpthread-git-5.0.0.4634.697f757|                2          31 KB  conda-forge\r\n",
      "    msys2-conda-epoch-20160418 |                1           3 KB  conda-forge\r\n",
      "    scikit-learn-1.1.3         |  py310had3394f_1         7.6 MB  conda-forge\r\n",
      "    scipy-1.9.3                |  py310h578b7cb_2        28.2 MB  conda-forge\r\n",
      "    threadpoolctl-3.1.0        |     pyh8a188c0_0          18 KB  conda-forge\r\n",
      "    ------------------------------------------------------------\r\n",
      "                                           Total:        37.8 MB\r\n",
      "\r\n",
      "The following NEW packages will be INSTALLED:\r\n",
      "\r\n",
      "  joblib             conda-forge/noarch::joblib-1.2.0-pyhd8ed1ab_0 None\r\n",
      "  m2w64-gcc-libgfor~ conda-forge/win-64::m2w64-gcc-libgfortran-5.3.0-6 None\r\n",
      "  m2w64-gcc-libs     conda-forge/win-64::m2w64-gcc-libs-5.3.0-7 None\r\n",
      "  m2w64-gcc-libs-co~ conda-forge/win-64::m2w64-gcc-libs-core-5.3.0-7 None\r\n",
      "  m2w64-gmp          conda-forge/win-64::m2w64-gmp-6.1.0-2 None\r\n",
      "  m2w64-libwinpthre~ conda-forge/win-64::m2w64-libwinpthread-git-5.0.0.4634.697f757-2 None\r\n",
      "  msys2-conda-epoch  conda-forge/win-64::msys2-conda-epoch-20160418-1 None\r\n",
      "  scikit-learn       conda-forge/win-64::scikit-learn-1.1.3-py310had3394f_1 None\r\n",
      "  scipy              conda-forge/win-64::scipy-1.9.3-py310h578b7cb_2 None\r\n",
      "  threadpoolctl      conda-forge/noarch::threadpoolctl-3.1.0-pyh8a188c0_0 None\r\n",
      "\r\n",
      "\r\n",
      "\r\n",
      "Downloading and Extracting Packages\r\n",
      "\rthreadpoolctl-3.1.0  | 18 KB     |            |   0% "
     ]
    },
    {
     "name": "stdout",
     "output_type": "stream",
     "text": [
      "\rthreadpoolctl-3.1.0  | 18 KB     | ########9  |  90% "
     ]
    },
    {
     "name": "stdout",
     "output_type": "stream",
     "text": [
      "\rthreadpoolctl-3.1.0  | 18 KB     | ########## | 100% \rthreadpoolctl-3.1.0  | 18 KB     | ########## | 100% \r\n",
      "\rm2w64-gcc-libs-core- | 214 KB    |            |   0% "
     ]
    },
    {
     "name": "stdout",
     "output_type": "stream",
     "text": [
      "\rm2w64-gcc-libs-core- | 214 KB    | ########## | 100% \rm2w64-gcc-libs-core- | 214 KB    | ########## | 100% \r\n",
      "\rscikit-learn-1.1.3   | 7.6 MB    |            |   0% "
     ]
    },
    {
     "name": "stdout",
     "output_type": "stream",
     "text": [
      "\rscikit-learn-1.1.3   | 7.6 MB    | 5          |   5% "
     ]
    },
    {
     "name": "stdout",
     "output_type": "stream",
     "text": [
      "\rscikit-learn-1.1.3   | 7.6 MB    | #          |  10% "
     ]
    },
    {
     "name": "stdout",
     "output_type": "stream",
     "text": [
      "\rscikit-learn-1.1.3   | 7.6 MB    | #5         |  15% "
     ]
    },
    {
     "name": "stdout",
     "output_type": "stream",
     "text": [
      "\rscikit-learn-1.1.3   | 7.6 MB    | #9         |  20% "
     ]
    },
    {
     "name": "stdout",
     "output_type": "stream",
     "text": [
      "\rscikit-learn-1.1.3   | 7.6 MB    | ##3        |  23% "
     ]
    },
    {
     "name": "stdout",
     "output_type": "stream",
     "text": [
      "\rscikit-learn-1.1.3   | 7.6 MB    | ##6        |  27% "
     ]
    },
    {
     "name": "stdout",
     "output_type": "stream",
     "text": [
      "\rscikit-learn-1.1.3   | 7.6 MB    | ##9        |  30% "
     ]
    },
    {
     "name": "stdout",
     "output_type": "stream",
     "text": [
      "\rscikit-learn-1.1.3   | 7.6 MB    | ###2       |  33% "
     ]
    },
    {
     "name": "stdout",
     "output_type": "stream",
     "text": [
      "\rscikit-learn-1.1.3   | 7.6 MB    | ###5       |  36% "
     ]
    },
    {
     "name": "stdout",
     "output_type": "stream",
     "text": [
      "\rscikit-learn-1.1.3   | 7.6 MB    | ###8       |  38% "
     ]
    },
    {
     "name": "stdout",
     "output_type": "stream",
     "text": [
      "\rscikit-learn-1.1.3   | 7.6 MB    | ####1      |  41% "
     ]
    },
    {
     "name": "stdout",
     "output_type": "stream",
     "text": [
      "\rscikit-learn-1.1.3   | 7.6 MB    | ####4      |  44% "
     ]
    },
    {
     "name": "stdout",
     "output_type": "stream",
     "text": [
      "\rscikit-learn-1.1.3   | 7.6 MB    | ####7      |  47% "
     ]
    },
    {
     "name": "stdout",
     "output_type": "stream",
     "text": [
      "\rscikit-learn-1.1.3   | 7.6 MB    | #####      |  50% "
     ]
    },
    {
     "name": "stdout",
     "output_type": "stream",
     "text": [
      "\rscikit-learn-1.1.3   | 7.6 MB    | #####3     |  53% "
     ]
    },
    {
     "name": "stdout",
     "output_type": "stream",
     "text": [
      "\rscikit-learn-1.1.3   | 7.6 MB    | #####6     |  56% "
     ]
    },
    {
     "name": "stdout",
     "output_type": "stream",
     "text": [
      "\rscikit-learn-1.1.3   | 7.6 MB    | #####9     |  59% "
     ]
    },
    {
     "name": "stdout",
     "output_type": "stream",
     "text": [
      "\rscikit-learn-1.1.3   | 7.6 MB    | ######1    |  62% "
     ]
    },
    {
     "name": "stdout",
     "output_type": "stream",
     "text": [
      "\rscikit-learn-1.1.3   | 7.6 MB    | ######4    |  65% "
     ]
    },
    {
     "name": "stdout",
     "output_type": "stream",
     "text": [
      "\rscikit-learn-1.1.3   | 7.6 MB    | ######7    |  68% "
     ]
    },
    {
     "name": "stdout",
     "output_type": "stream",
     "text": [
      "\rscikit-learn-1.1.3   | 7.6 MB    | #######    |  71% "
     ]
    },
    {
     "name": "stdout",
     "output_type": "stream",
     "text": [
      "\rscikit-learn-1.1.3   | 7.6 MB    | #######3   |  74% "
     ]
    },
    {
     "name": "stdout",
     "output_type": "stream",
     "text": [
      "\rscikit-learn-1.1.3   | 7.6 MB    | #######6   |  76% "
     ]
    },
    {
     "name": "stdout",
     "output_type": "stream",
     "text": [
      "\rscikit-learn-1.1.3   | 7.6 MB    | #######9   |  80% "
     ]
    },
    {
     "name": "stdout",
     "output_type": "stream",
     "text": [
      "\rscikit-learn-1.1.3   | 7.6 MB    | ########2  |  83% "
     ]
    },
    {
     "name": "stdout",
     "output_type": "stream",
     "text": [
      "\rscikit-learn-1.1.3   | 7.6 MB    | ########5  |  86% "
     ]
    },
    {
     "name": "stdout",
     "output_type": "stream",
     "text": [
      "\rscikit-learn-1.1.3   | 7.6 MB    | ########8  |  89% "
     ]
    },
    {
     "name": "stdout",
     "output_type": "stream",
     "text": [
      "\rscikit-learn-1.1.3   | 7.6 MB    | #########1 |  92% "
     ]
    },
    {
     "name": "stdout",
     "output_type": "stream",
     "text": [
      "\rscikit-learn-1.1.3   | 7.6 MB    | #########5 |  95% "
     ]
    },
    {
     "name": "stdout",
     "output_type": "stream",
     "text": [
      "\rscikit-learn-1.1.3   | 7.6 MB    | #########8 |  99% "
     ]
    },
    {
     "name": "stdout",
     "output_type": "stream",
     "text": [
      "\rscikit-learn-1.1.3   | 7.6 MB    | ########## | 100% \r\n",
      "\rmsys2-conda-epoch-20 | 3 KB      |            |   0% "
     ]
    },
    {
     "name": "stdout",
     "output_type": "stream",
     "text": [
      "\rmsys2-conda-epoch-20 | 3 KB      | ########## | 100% \rmsys2-conda-epoch-20 | 3 KB      | ########## | 100% \r\n",
      "\rm2w64-gcc-libgfortra | 342 KB    |            |   0% "
     ]
    },
    {
     "name": "stdout",
     "output_type": "stream",
     "text": [
      "\rm2w64-gcc-libgfortra | 342 KB    | ###7       |  37% "
     ]
    },
    {
     "name": "stdout",
     "output_type": "stream",
     "text": [
      "\rm2w64-gcc-libgfortra | 342 KB    | ########## | 100% \rm2w64-gcc-libgfortra | 342 KB    | ########## | 100% \r\n",
      "\rm2w64-gcc-libs-5.3.0 | 520 KB    |            |   0% "
     ]
    },
    {
     "name": "stdout",
     "output_type": "stream",
     "text": [
      "\rm2w64-gcc-libs-5.3.0 | 520 KB    | ###        |  31% "
     ]
    },
    {
     "name": "stdout",
     "output_type": "stream",
     "text": [
      "\rm2w64-gcc-libs-5.3.0 | 520 KB    | ######7    |  68% "
     ]
    },
    {
     "name": "stdout",
     "output_type": "stream",
     "text": [
      "\rm2w64-gcc-libs-5.3.0 | 520 KB    | ########## | 100% \r\n",
      "\rjoblib-1.2.0         | 205 KB    |            |   0% "
     ]
    },
    {
     "name": "stdout",
     "output_type": "stream",
     "text": [
      "\rjoblib-1.2.0         | 205 KB    | ####6      |  47% "
     ]
    },
    {
     "name": "stdout",
     "output_type": "stream",
     "text": [
      "\rjoblib-1.2.0         | 205 KB    | ########## | 100% \rjoblib-1.2.0         | 205 KB    | ########## | 100% \r\n",
      "\rm2w64-gmp-6.1.0      | 726 KB    |            |   0% "
     ]
    },
    {
     "name": "stdout",
     "output_type": "stream",
     "text": [
      "\rm2w64-gmp-6.1.0      | 726 KB    | 6          |   7% "
     ]
    },
    {
     "name": "stdout",
     "output_type": "stream",
     "text": [
      "\rm2w64-gmp-6.1.0      | 726 KB    | #3         |  13% "
     ]
    },
    {
     "name": "stdout",
     "output_type": "stream",
     "text": [
      "\rm2w64-gmp-6.1.0      | 726 KB    | ##8        |  29% "
     ]
    },
    {
     "name": "stdout",
     "output_type": "stream",
     "text": [
      "\rm2w64-gmp-6.1.0      | 726 KB    | #####9     |  59% "
     ]
    },
    {
     "name": "stdout",
     "output_type": "stream",
     "text": [
      "\rm2w64-gmp-6.1.0      | 726 KB    | #########  |  90% "
     ]
    },
    {
     "name": "stdout",
     "output_type": "stream",
     "text": [
      "\rm2w64-gmp-6.1.0      | 726 KB    | ########## | 100% \r\n",
      "\rscipy-1.9.3          | 28.2 MB   |            |   0% "
     ]
    },
    {
     "name": "stdout",
     "output_type": "stream",
     "text": [
      "\rscipy-1.9.3          | 28.2 MB   |            |   0% "
     ]
    },
    {
     "name": "stdout",
     "output_type": "stream",
     "text": [
      "\rscipy-1.9.3          | 28.2 MB   | 1          |   1% "
     ]
    },
    {
     "name": "stdout",
     "output_type": "stream",
     "text": [
      "\rscipy-1.9.3          | 28.2 MB   | 1          |   2% "
     ]
    },
    {
     "name": "stdout",
     "output_type": "stream",
     "text": [
      "\rscipy-1.9.3          | 28.2 MB   | 2          |   2% "
     ]
    },
    {
     "name": "stdout",
     "output_type": "stream",
     "text": [
      "\rscipy-1.9.3          | 28.2 MB   | 3          |   3% "
     ]
    },
    {
     "name": "stdout",
     "output_type": "stream",
     "text": [
      "\rscipy-1.9.3          | 28.2 MB   | 4          |   4% "
     ]
    },
    {
     "name": "stdout",
     "output_type": "stream",
     "text": [
      "\rscipy-1.9.3          | 28.2 MB   | 4          |   5% "
     ]
    },
    {
     "name": "stdout",
     "output_type": "stream",
     "text": [
      "\rscipy-1.9.3          | 28.2 MB   | 5          |   5% "
     ]
    },
    {
     "name": "stdout",
     "output_type": "stream",
     "text": [
      "\rscipy-1.9.3          | 28.2 MB   | 6          |   6% "
     ]
    },
    {
     "name": "stdout",
     "output_type": "stream",
     "text": [
      "\rscipy-1.9.3          | 28.2 MB   | 6          |   7% "
     ]
    },
    {
     "name": "stdout",
     "output_type": "stream",
     "text": [
      "\rscipy-1.9.3          | 28.2 MB   | 7          |   8% "
     ]
    },
    {
     "name": "stdout",
     "output_type": "stream",
     "text": [
      "\rscipy-1.9.3          | 28.2 MB   | 8          |   8% "
     ]
    },
    {
     "name": "stdout",
     "output_type": "stream",
     "text": [
      "\rscipy-1.9.3          | 28.2 MB   | 9          |   9% "
     ]
    },
    {
     "name": "stdout",
     "output_type": "stream",
     "text": [
      "\rscipy-1.9.3          | 28.2 MB   | 9          |  10% "
     ]
    },
    {
     "name": "stdout",
     "output_type": "stream",
     "text": [
      "\rscipy-1.9.3          | 28.2 MB   | #          |  11% "
     ]
    },
    {
     "name": "stdout",
     "output_type": "stream",
     "text": [
      "\rscipy-1.9.3          | 28.2 MB   | #1         |  12% "
     ]
    },
    {
     "name": "stdout",
     "output_type": "stream",
     "text": [
      "\rscipy-1.9.3          | 28.2 MB   | #2         |  12% "
     ]
    },
    {
     "name": "stdout",
     "output_type": "stream",
     "text": [
      "\rscipy-1.9.3          | 28.2 MB   | #3         |  13% "
     ]
    },
    {
     "name": "stdout",
     "output_type": "stream",
     "text": [
      "\rscipy-1.9.3          | 28.2 MB   | #3         |  14% "
     ]
    },
    {
     "name": "stdout",
     "output_type": "stream",
     "text": [
      "\rscipy-1.9.3          | 28.2 MB   | #4         |  15% "
     ]
    },
    {
     "name": "stdout",
     "output_type": "stream",
     "text": [
      "\rscipy-1.9.3          | 28.2 MB   | #5         |  16% "
     ]
    },
    {
     "name": "stdout",
     "output_type": "stream",
     "text": [
      "\rscipy-1.9.3          | 28.2 MB   | #6         |  16% \rscipy-1.9.3          | 28.2 MB   | #7         |  17% "
     ]
    },
    {
     "name": "stdout",
     "output_type": "stream",
     "text": [
      "\rscipy-1.9.3          | 28.2 MB   | #8         |  18% "
     ]
    },
    {
     "name": "stdout",
     "output_type": "stream",
     "text": [
      "\rscipy-1.9.3          | 28.2 MB   | #8         |  19% "
     ]
    },
    {
     "name": "stdout",
     "output_type": "stream",
     "text": [
      "\rscipy-1.9.3          | 28.2 MB   | #9         |  20% "
     ]
    },
    {
     "name": "stdout",
     "output_type": "stream",
     "text": [
      "\rscipy-1.9.3          | 28.2 MB   | ##         |  21% "
     ]
    },
    {
     "name": "stdout",
     "output_type": "stream",
     "text": [
      "\rscipy-1.9.3          | 28.2 MB   | ##1        |  21% "
     ]
    },
    {
     "name": "stdout",
     "output_type": "stream",
     "text": [
      "\rscipy-1.9.3          | 28.2 MB   | ##2        |  22% "
     ]
    },
    {
     "name": "stdout",
     "output_type": "stream",
     "text": [
      "\rscipy-1.9.3          | 28.2 MB   | ##3        |  23% "
     ]
    },
    {
     "name": "stdout",
     "output_type": "stream",
     "text": [
      "\rscipy-1.9.3          | 28.2 MB   | ##3        |  24% "
     ]
    },
    {
     "name": "stdout",
     "output_type": "stream",
     "text": [
      "\rscipy-1.9.3          | 28.2 MB   | ##4        |  25% "
     ]
    },
    {
     "name": "stdout",
     "output_type": "stream",
     "text": [
      "\rscipy-1.9.3          | 28.2 MB   | ##5        |  26% "
     ]
    },
    {
     "name": "stdout",
     "output_type": "stream",
     "text": [
      "\rscipy-1.9.3          | 28.2 MB   | ##6        |  26% "
     ]
    },
    {
     "name": "stdout",
     "output_type": "stream",
     "text": [
      "\rscipy-1.9.3          | 28.2 MB   | ##7        |  27% "
     ]
    },
    {
     "name": "stdout",
     "output_type": "stream",
     "text": [
      "\rscipy-1.9.3          | 28.2 MB   | ##8        |  28% "
     ]
    },
    {
     "name": "stdout",
     "output_type": "stream",
     "text": [
      "\rscipy-1.9.3          | 28.2 MB   | ##9        |  29% "
     ]
    },
    {
     "name": "stdout",
     "output_type": "stream",
     "text": [
      "\rscipy-1.9.3          | 28.2 MB   | ##9        |  30% "
     ]
    },
    {
     "name": "stdout",
     "output_type": "stream",
     "text": [
      "\rscipy-1.9.3          | 28.2 MB   | ###        |  31% "
     ]
    },
    {
     "name": "stdout",
     "output_type": "stream",
     "text": [
      "\rscipy-1.9.3          | 28.2 MB   | ###1       |  31% "
     ]
    },
    {
     "name": "stdout",
     "output_type": "stream",
     "text": [
      "\rscipy-1.9.3          | 28.2 MB   | ###2       |  32% "
     ]
    },
    {
     "name": "stdout",
     "output_type": "stream",
     "text": [
      "\rscipy-1.9.3          | 28.2 MB   | ###3       |  33% "
     ]
    },
    {
     "name": "stdout",
     "output_type": "stream",
     "text": [
      "\rscipy-1.9.3          | 28.2 MB   | ###3       |  34% "
     ]
    },
    {
     "name": "stdout",
     "output_type": "stream",
     "text": [
      "\rscipy-1.9.3          | 28.2 MB   | ###4       |  35% "
     ]
    },
    {
     "name": "stdout",
     "output_type": "stream",
     "text": [
      "\rscipy-1.9.3          | 28.2 MB   | ###5       |  35% "
     ]
    },
    {
     "name": "stdout",
     "output_type": "stream",
     "text": [
      "\rscipy-1.9.3          | 28.2 MB   | ###6       |  36% "
     ]
    },
    {
     "name": "stdout",
     "output_type": "stream",
     "text": [
      "\rscipy-1.9.3          | 28.2 MB   | ###7       |  37% "
     ]
    },
    {
     "name": "stdout",
     "output_type": "stream",
     "text": [
      "\rscipy-1.9.3          | 28.2 MB   | ###8       |  38% "
     ]
    },
    {
     "name": "stdout",
     "output_type": "stream",
     "text": [
      "\rscipy-1.9.3          | 28.2 MB   | ###8       |  39% "
     ]
    },
    {
     "name": "stdout",
     "output_type": "stream",
     "text": [
      "\rscipy-1.9.3          | 28.2 MB   | ###9       |  40% "
     ]
    },
    {
     "name": "stdout",
     "output_type": "stream",
     "text": [
      "\rscipy-1.9.3          | 28.2 MB   | ####       |  41% "
     ]
    },
    {
     "name": "stdout",
     "output_type": "stream",
     "text": [
      "\rscipy-1.9.3          | 28.2 MB   | ####1      |  41% "
     ]
    },
    {
     "name": "stdout",
     "output_type": "stream",
     "text": [
      "\rscipy-1.9.3          | 28.2 MB   | ####2      |  42% "
     ]
    },
    {
     "name": "stdout",
     "output_type": "stream",
     "text": [
      "\rscipy-1.9.3          | 28.2 MB   | ####2      |  43% "
     ]
    },
    {
     "name": "stdout",
     "output_type": "stream",
     "text": [
      "\rscipy-1.9.3          | 28.2 MB   | ####3      |  44% "
     ]
    },
    {
     "name": "stdout",
     "output_type": "stream",
     "text": [
      "\rscipy-1.9.3          | 28.2 MB   | ####4      |  45% "
     ]
    },
    {
     "name": "stdout",
     "output_type": "stream",
     "text": [
      "\rscipy-1.9.3          | 28.2 MB   | ####5      |  45% "
     ]
    },
    {
     "name": "stdout",
     "output_type": "stream",
     "text": [
      "\rscipy-1.9.3          | 28.2 MB   | ####6      |  46% "
     ]
    },
    {
     "name": "stdout",
     "output_type": "stream",
     "text": [
      "\rscipy-1.9.3          | 28.2 MB   | ####6      |  47% "
     ]
    },
    {
     "name": "stdout",
     "output_type": "stream",
     "text": [
      "\rscipy-1.9.3          | 28.2 MB   | ####7      |  48% "
     ]
    },
    {
     "name": "stdout",
     "output_type": "stream",
     "text": [
      "\rscipy-1.9.3          | 28.2 MB   | ####8      |  48% "
     ]
    },
    {
     "name": "stdout",
     "output_type": "stream",
     "text": [
      "\rscipy-1.9.3          | 28.2 MB   | ####9      |  49% "
     ]
    },
    {
     "name": "stdout",
     "output_type": "stream",
     "text": [
      "\rscipy-1.9.3          | 28.2 MB   | #####      |  50% "
     ]
    },
    {
     "name": "stdout",
     "output_type": "stream",
     "text": [
      "\rscipy-1.9.3          | 28.2 MB   | #####      |  51% "
     ]
    },
    {
     "name": "stdout",
     "output_type": "stream",
     "text": [
      "\rscipy-1.9.3          | 28.2 MB   | #####1     |  52% "
     ]
    },
    {
     "name": "stdout",
     "output_type": "stream",
     "text": [
      "\rscipy-1.9.3          | 28.2 MB   | #####2     |  53% "
     ]
    },
    {
     "name": "stdout",
     "output_type": "stream",
     "text": [
      "\rscipy-1.9.3          | 28.2 MB   | #####3     |  53% "
     ]
    },
    {
     "name": "stdout",
     "output_type": "stream",
     "text": [
      "\rscipy-1.9.3          | 28.2 MB   | #####4     |  54% "
     ]
    },
    {
     "name": "stdout",
     "output_type": "stream",
     "text": [
      "\rscipy-1.9.3          | 28.2 MB   | #####4     |  55% "
     ]
    },
    {
     "name": "stdout",
     "output_type": "stream",
     "text": [
      "\rscipy-1.9.3          | 28.2 MB   | #####5     |  56% "
     ]
    },
    {
     "name": "stdout",
     "output_type": "stream",
     "text": [
      "\rscipy-1.9.3          | 28.2 MB   | #####6     |  56% "
     ]
    },
    {
     "name": "stdout",
     "output_type": "stream",
     "text": [
      "\rscipy-1.9.3          | 28.2 MB   | #####7     |  57% "
     ]
    },
    {
     "name": "stdout",
     "output_type": "stream",
     "text": [
      "\rscipy-1.9.3          | 28.2 MB   | #####8     |  58% "
     ]
    },
    {
     "name": "stdout",
     "output_type": "stream",
     "text": [
      "\rscipy-1.9.3          | 28.2 MB   | #####8     |  59% "
     ]
    },
    {
     "name": "stdout",
     "output_type": "stream",
     "text": [
      "\rscipy-1.9.3          | 28.2 MB   | #####9     |  60% "
     ]
    },
    {
     "name": "stdout",
     "output_type": "stream",
     "text": [
      "\rscipy-1.9.3          | 28.2 MB   | ######     |  61% "
     ]
    },
    {
     "name": "stdout",
     "output_type": "stream",
     "text": [
      "\rscipy-1.9.3          | 28.2 MB   | ######1    |  61% "
     ]
    },
    {
     "name": "stdout",
     "output_type": "stream",
     "text": [
      "\rscipy-1.9.3          | 28.2 MB   | ######2    |  62% "
     ]
    },
    {
     "name": "stdout",
     "output_type": "stream",
     "text": [
      "\rscipy-1.9.3          | 28.2 MB   | ######3    |  63% "
     ]
    },
    {
     "name": "stdout",
     "output_type": "stream",
     "text": [
      "\rscipy-1.9.3          | 28.2 MB   | ######4    |  64% "
     ]
    },
    {
     "name": "stdout",
     "output_type": "stream",
     "text": [
      "\rscipy-1.9.3          | 28.2 MB   | ######4    |  65% "
     ]
    },
    {
     "name": "stdout",
     "output_type": "stream",
     "text": [
      "\rscipy-1.9.3          | 28.2 MB   | ######5    |  66% "
     ]
    },
    {
     "name": "stdout",
     "output_type": "stream",
     "text": [
      "\rscipy-1.9.3          | 28.2 MB   | ######6    |  67% "
     ]
    },
    {
     "name": "stdout",
     "output_type": "stream",
     "text": [
      "\rscipy-1.9.3          | 28.2 MB   | ######7    |  67% \rscipy-1.9.3          | 28.2 MB   | ######8    |  68% "
     ]
    },
    {
     "name": "stdout",
     "output_type": "stream",
     "text": [
      "\rscipy-1.9.3          | 28.2 MB   | ######8    |  69% "
     ]
    },
    {
     "name": "stdout",
     "output_type": "stream",
     "text": [
      "\rscipy-1.9.3          | 28.2 MB   | ######9    |  70% "
     ]
    },
    {
     "name": "stdout",
     "output_type": "stream",
     "text": [
      "\rscipy-1.9.3          | 28.2 MB   | #######    |  71% \rscipy-1.9.3          | 28.2 MB   | #######1   |  72% "
     ]
    },
    {
     "name": "stdout",
     "output_type": "stream",
     "text": [
      "\rscipy-1.9.3          | 28.2 MB   | #######2   |  72% "
     ]
    },
    {
     "name": "stdout",
     "output_type": "stream",
     "text": [
      "\rscipy-1.9.3          | 28.2 MB   | #######3   |  73% "
     ]
    },
    {
     "name": "stdout",
     "output_type": "stream",
     "text": [
      "\rscipy-1.9.3          | 28.2 MB   | #######4   |  74% "
     ]
    },
    {
     "name": "stdout",
     "output_type": "stream",
     "text": [
      "\rscipy-1.9.3          | 28.2 MB   | #######4   |  75% "
     ]
    },
    {
     "name": "stdout",
     "output_type": "stream",
     "text": [
      "\rscipy-1.9.3          | 28.2 MB   | #######5   |  76% "
     ]
    },
    {
     "name": "stdout",
     "output_type": "stream",
     "text": [
      "\rscipy-1.9.3          | 28.2 MB   | #######6   |  77% "
     ]
    },
    {
     "name": "stdout",
     "output_type": "stream",
     "text": [
      "\rscipy-1.9.3          | 28.2 MB   | #######7   |  78% "
     ]
    },
    {
     "name": "stdout",
     "output_type": "stream",
     "text": [
      "\rscipy-1.9.3          | 28.2 MB   | #######8   |  78% "
     ]
    },
    {
     "name": "stdout",
     "output_type": "stream",
     "text": [
      "\rscipy-1.9.3          | 28.2 MB   | #######9   |  79% "
     ]
    },
    {
     "name": "stdout",
     "output_type": "stream",
     "text": [
      "\rscipy-1.9.3          | 28.2 MB   | ########   |  80% "
     ]
    },
    {
     "name": "stdout",
     "output_type": "stream",
     "text": [
      "\rscipy-1.9.3          | 28.2 MB   | ########   |  81% "
     ]
    },
    {
     "name": "stdout",
     "output_type": "stream",
     "text": [
      "\rscipy-1.9.3          | 28.2 MB   | ########1  |  82% "
     ]
    },
    {
     "name": "stdout",
     "output_type": "stream",
     "text": [
      "\rscipy-1.9.3          | 28.2 MB   | ########2  |  82% "
     ]
    },
    {
     "name": "stdout",
     "output_type": "stream",
     "text": [
      "\rscipy-1.9.3          | 28.2 MB   | ########3  |  83% "
     ]
    },
    {
     "name": "stdout",
     "output_type": "stream",
     "text": [
      "\rscipy-1.9.3          | 28.2 MB   | ########4  |  84% "
     ]
    },
    {
     "name": "stdout",
     "output_type": "stream",
     "text": [
      "\rscipy-1.9.3          | 28.2 MB   | ########4  |  85% "
     ]
    },
    {
     "name": "stdout",
     "output_type": "stream",
     "text": [
      "\rscipy-1.9.3          | 28.2 MB   | ########5  |  86% "
     ]
    },
    {
     "name": "stdout",
     "output_type": "stream",
     "text": [
      "\rscipy-1.9.3          | 28.2 MB   | ########6  |  87% "
     ]
    },
    {
     "name": "stdout",
     "output_type": "stream",
     "text": [
      "\rscipy-1.9.3          | 28.2 MB   | ########7  |  87% "
     ]
    },
    {
     "name": "stdout",
     "output_type": "stream",
     "text": [
      "\rscipy-1.9.3          | 28.2 MB   | ########8  |  88% "
     ]
    },
    {
     "name": "stdout",
     "output_type": "stream",
     "text": [
      "\rscipy-1.9.3          | 28.2 MB   | ########9  |  89% "
     ]
    },
    {
     "name": "stdout",
     "output_type": "stream",
     "text": [
      "\rscipy-1.9.3          | 28.2 MB   | ########9  |  90% "
     ]
    },
    {
     "name": "stdout",
     "output_type": "stream",
     "text": [
      "\rscipy-1.9.3          | 28.2 MB   | #########  |  91% "
     ]
    },
    {
     "name": "stdout",
     "output_type": "stream",
     "text": [
      "\rscipy-1.9.3          | 28.2 MB   | #########1 |  92% "
     ]
    },
    {
     "name": "stdout",
     "output_type": "stream",
     "text": [
      "\rscipy-1.9.3          | 28.2 MB   | #########2 |  92% "
     ]
    },
    {
     "name": "stdout",
     "output_type": "stream",
     "text": [
      "\rscipy-1.9.3          | 28.2 MB   | #########3 |  93% "
     ]
    },
    {
     "name": "stdout",
     "output_type": "stream",
     "text": [
      "\rscipy-1.9.3          | 28.2 MB   | #########4 |  94% "
     ]
    },
    {
     "name": "stdout",
     "output_type": "stream",
     "text": [
      "\rscipy-1.9.3          | 28.2 MB   | #########4 |  95% "
     ]
    },
    {
     "name": "stdout",
     "output_type": "stream",
     "text": [
      "\rscipy-1.9.3          | 28.2 MB   | #########5 |  96% "
     ]
    },
    {
     "name": "stdout",
     "output_type": "stream",
     "text": [
      "\rscipy-1.9.3          | 28.2 MB   | #########6 |  96% "
     ]
    },
    {
     "name": "stdout",
     "output_type": "stream",
     "text": [
      "\rscipy-1.9.3          | 28.2 MB   | #########7 |  97% "
     ]
    },
    {
     "name": "stdout",
     "output_type": "stream",
     "text": [
      "\rscipy-1.9.3          | 28.2 MB   | #########8 |  98% "
     ]
    },
    {
     "name": "stdout",
     "output_type": "stream",
     "text": [
      "\rscipy-1.9.3          | 28.2 MB   | #########8 |  99% "
     ]
    },
    {
     "name": "stdout",
     "output_type": "stream",
     "text": [
      "\rscipy-1.9.3          | 28.2 MB   | #########9 | 100% "
     ]
    },
    {
     "name": "stdout",
     "output_type": "stream",
     "text": [
      "\rscipy-1.9.3          | 28.2 MB   | ########## | 100% \r\n",
      "\rm2w64-libwinpthread- | 31 KB     |            |   0% "
     ]
    },
    {
     "name": "stdout",
     "output_type": "stream",
     "text": [
      "\rm2w64-libwinpthread- | 31 KB     | ########## | 100% \rm2w64-libwinpthread- | 31 KB     | ########## | 100% \r\n",
      "Preparing transaction: ...working... "
     ]
    },
    {
     "name": "stdout",
     "output_type": "stream",
     "text": [
      "done\r\n",
      "Verifying transaction: ...working... "
     ]
    },
    {
     "name": "stdout",
     "output_type": "stream",
     "text": [
      "done\r\n",
      "Executing transaction: ...working... "
     ]
    },
    {
     "name": "stdout",
     "output_type": "stream",
     "text": [
      "done\r\n"
     ]
    },
    {
     "name": "stdout",
     "output_type": "stream",
     "text": [
      "Retrieving notices: ...working... "
     ]
    },
    {
     "name": "stdout",
     "output_type": "stream",
     "text": [
      "done\r\n"
     ]
    },
    {
     "data": {
      "text/plain": [
       "PyObject <class 'sklearn.feature_extraction.text.TfidfTransformer'>"
      ]
     },
     "metadata": {},
     "output_type": "display_data"
    }
   ],
   "source": [
    "using ScikitLearn, Printf\n",
    "using ScikitLearn.Pipelines: Pipeline\n",
    "using ScikitLearn.GridSearch: GridSearchCV\n",
    "\n",
    "# @sk_import datasets: fetch_20newsgroups\n",
    "@sk_import feature_extraction.text: (CountVectorizer, TfidfTransformer)\n",
    "# @sk_import linear_model: SGDClassifier"
   ]
  },
  {
   "cell_type": "code",
   "execution_count": 33,
   "metadata": {},
   "outputs": [],
   "source": [
    "using TextAnalysis"
   ]
  },
  {
   "cell_type": "code",
   "execution_count": 56,
   "metadata": {},
   "outputs": [
    {
     "data": {
      "text/html": [
       "<style>#sk-container-id-6 {color: black;background-color: white;}#sk-container-id-6 pre{padding: 0;}#sk-container-id-6 div.sk-toggleable {background-color: white;}#sk-container-id-6 label.sk-toggleable__label {cursor: pointer;display: block;width: 100%;margin-bottom: 0;padding: 0.3em;box-sizing: border-box;text-align: center;}#sk-container-id-6 label.sk-toggleable__label-arrow:before {content: \"▸\";float: left;margin-right: 0.25em;color: #696969;}#sk-container-id-6 label.sk-toggleable__label-arrow:hover:before {color: black;}#sk-container-id-6 div.sk-estimator:hover label.sk-toggleable__label-arrow:before {color: black;}#sk-container-id-6 div.sk-toggleable__content {max-height: 0;max-width: 0;overflow: hidden;text-align: left;background-color: #f0f8ff;}#sk-container-id-6 div.sk-toggleable__content pre {margin: 0.2em;color: black;border-radius: 0.25em;background-color: #f0f8ff;}#sk-container-id-6 input.sk-toggleable__control:checked~div.sk-toggleable__content {max-height: 200px;max-width: 100%;overflow: auto;}#sk-container-id-6 input.sk-toggleable__control:checked~label.sk-toggleable__label-arrow:before {content: \"▾\";}#sk-container-id-6 div.sk-estimator input.sk-toggleable__control:checked~label.sk-toggleable__label {background-color: #d4ebff;}#sk-container-id-6 div.sk-label input.sk-toggleable__control:checked~label.sk-toggleable__label {background-color: #d4ebff;}#sk-container-id-6 input.sk-hidden--visually {border: 0;clip: rect(1px 1px 1px 1px);clip: rect(1px, 1px, 1px, 1px);height: 1px;margin: -1px;overflow: hidden;padding: 0;position: absolute;width: 1px;}#sk-container-id-6 div.sk-estimator {font-family: monospace;background-color: #f0f8ff;border: 1px dotted black;border-radius: 0.25em;box-sizing: border-box;margin-bottom: 0.5em;}#sk-container-id-6 div.sk-estimator:hover {background-color: #d4ebff;}#sk-container-id-6 div.sk-parallel-item::after {content: \"\";width: 100%;border-bottom: 1px solid gray;flex-grow: 1;}#sk-container-id-6 div.sk-label:hover label.sk-toggleable__label {background-color: #d4ebff;}#sk-container-id-6 div.sk-serial::before {content: \"\";position: absolute;border-left: 1px solid gray;box-sizing: border-box;top: 0;bottom: 0;left: 50%;z-index: 0;}#sk-container-id-6 div.sk-serial {display: flex;flex-direction: column;align-items: center;background-color: white;padding-right: 0.2em;padding-left: 0.2em;position: relative;}#sk-container-id-6 div.sk-item {position: relative;z-index: 1;}#sk-container-id-6 div.sk-parallel {display: flex;align-items: stretch;justify-content: center;background-color: white;position: relative;}#sk-container-id-6 div.sk-item::before, #sk-container-id-6 div.sk-parallel-item::before {content: \"\";position: absolute;border-left: 1px solid gray;box-sizing: border-box;top: 0;bottom: 0;left: 50%;z-index: -1;}#sk-container-id-6 div.sk-parallel-item {display: flex;flex-direction: column;z-index: 1;position: relative;background-color: white;}#sk-container-id-6 div.sk-parallel-item:first-child::after {align-self: flex-end;width: 50%;}#sk-container-id-6 div.sk-parallel-item:last-child::after {align-self: flex-start;width: 50%;}#sk-container-id-6 div.sk-parallel-item:only-child::after {width: 0;}#sk-container-id-6 div.sk-dashed-wrapped {border: 1px dashed gray;margin: 0 0.4em 0.5em 0.4em;box-sizing: border-box;padding-bottom: 0.4em;background-color: white;}#sk-container-id-6 div.sk-label label {font-family: monospace;font-weight: bold;display: inline-block;line-height: 1.2em;}#sk-container-id-6 div.sk-label-container {text-align: center;}#sk-container-id-6 div.sk-container {/* jupyter's `normalize.less` sets `[hidden] { display: none; }` but bootstrap.min.css set `[hidden] { display: none !important; }` so we also need the `!important` here to be able to override the default hidden behavior on the sphinx rendered scikit-learn.org. See: https://github.com/scikit-learn/scikit-learn/issues/21755 */display: inline-block !important;position: relative;}#sk-container-id-6 div.sk-text-repr-fallback {display: none;}</style><div id=\"sk-container-id-6\" class=\"sk-top-container\"><div class=\"sk-text-repr-fallback\"><pre>CountVectorizer()</pre><b>In a Jupyter environment, please rerun this cell to show the HTML representation or trust the notebook. <br />On GitHub, the HTML representation is unable to render, please try loading this page with nbviewer.org.</b></div><div class=\"sk-container\" hidden><div class=\"sk-item\"><div class=\"sk-estimator sk-toggleable\"><input class=\"sk-toggleable__control sk-hidden--visually\" id=\"sk-estimator-id-6\" type=\"checkbox\" checked><label for=\"sk-estimator-id-6\" class=\"sk-toggleable__label sk-toggleable__label-arrow\">CountVectorizer</label><div class=\"sk-toggleable__content\"><pre>CountVectorizer()</pre></div></div></div></div></div>"
      ],
      "text/plain": [
       "PyObject CountVectorizer()"
      ]
     },
     "metadata": {},
     "output_type": "display_data"
    }
   ],
   "source": [
    "cv = CountVectorizer()\n"
   ]
  },
  {
   "cell_type": "code",
   "execution_count": 153,
   "metadata": {},
   "outputs": [
    {
     "ename": "PyCall.PyError",
     "evalue": "PyError ($(Expr(:escape, :(ccall(#= C:\\Users\\Jahnavi Ramagiri\\.julia\\packages\\PyCall\\ygXW2\\src\\pyfncall.jl:43 =# @pysym(:PyObject_Call), PyPtr, (PyPtr, PyPtr, PyPtr), o, pyargsptr, kw))))) <class 'AttributeError'>\nAttributeError(\"'PyCall.jlwrap' object has no attribute 'lower'\")\n  File \"C:\\Users\\Jahnavi Ramagiri\\.julia\\conda\\3\\lib\\site-packages\\sklearn\\feature_extraction\\text.py\", line 1338, in fit_transform\n    vocabulary, X = self._count_vocab(raw_documents, self.fixed_vocabulary_)\n  File \"C:\\Users\\Jahnavi Ramagiri\\.julia\\conda\\3\\lib\\site-packages\\sklearn\\feature_extraction\\text.py\", line 1209, in _count_vocab\n    for feature in analyze(doc):\n  File \"C:\\Users\\Jahnavi Ramagiri\\.julia\\conda\\3\\lib\\site-packages\\sklearn\\feature_extraction\\text.py\", line 111, in _analyze\n    doc = preprocessor(doc)\n  File \"C:\\Users\\Jahnavi Ramagiri\\.julia\\conda\\3\\lib\\site-packages\\sklearn\\feature_extraction\\text.py\", line 69, in _preprocess\n    doc = doc.lower()\n",
     "output_type": "error",
     "traceback": [
      "PyError ($(Expr(:escape, :(ccall(#= C:\\Users\\Jahnavi Ramagiri\\.julia\\packages\\PyCall\\ygXW2\\src\\pyfncall.jl:43 =# @pysym(:PyObject_Call), PyPtr, (PyPtr, PyPtr, PyPtr), o, pyargsptr, kw))))) <class 'AttributeError'>\n",
      "AttributeError(\"'PyCall.jlwrap' object has no attribute 'lower'\")\n",
      "  File \"C:\\Users\\Jahnavi Ramagiri\\.julia\\conda\\3\\lib\\site-packages\\sklearn\\feature_extraction\\text.py\", line 1338, in fit_transform\n",
      "    vocabulary, X = self._count_vocab(raw_documents, self.fixed_vocabulary_)\n",
      "  File \"C:\\Users\\Jahnavi Ramagiri\\.julia\\conda\\3\\lib\\site-packages\\sklearn\\feature_extraction\\text.py\", line 1209, in _count_vocab\n",
      "    for feature in analyze(doc):\n",
      "  File \"C:\\Users\\Jahnavi Ramagiri\\.julia\\conda\\3\\lib\\site-packages\\sklearn\\feature_extraction\\text.py\", line 111, in _analyze\n",
      "    doc = preprocessor(doc)\n",
      "  File \"C:\\Users\\Jahnavi Ramagiri\\.julia\\conda\\3\\lib\\site-packages\\sklearn\\feature_extraction\\text.py\", line 69, in _preprocess\n",
      "    doc = doc.lower()\n",
      "\n",
      "\n",
      "Stacktrace:\n",
      "  [1] pyerr_check\n",
      "    @ C:\\Users\\Jahnavi Ramagiri\\.julia\\packages\\PyCall\\ygXW2\\src\\exception.jl:62 [inlined]\n",
      "  [2] pyerr_check\n",
      "    @ C:\\Users\\Jahnavi Ramagiri\\.julia\\packages\\PyCall\\ygXW2\\src\\exception.jl:66 [inlined]\n",
      "  [3] _handle_error(msg::String)\n",
      "    @ PyCall C:\\Users\\Jahnavi Ramagiri\\.julia\\packages\\PyCall\\ygXW2\\src\\exception.jl:83\n",
      "  [4] macro expansion\n",
      "    @ C:\\Users\\Jahnavi Ramagiri\\.julia\\packages\\PyCall\\ygXW2\\src\\exception.jl:97 [inlined]\n",
      "  [5] #107\n",
      "    @ C:\\Users\\Jahnavi Ramagiri\\.julia\\packages\\PyCall\\ygXW2\\src\\pyfncall.jl:43 [inlined]\n",
      "  [6] disable_sigint\n",
      "    @ .\\c.jl:473 [inlined]\n",
      "  [7] __pycall!\n",
      "    @ C:\\Users\\Jahnavi Ramagiri\\.julia\\packages\\PyCall\\ygXW2\\src\\pyfncall.jl:42 [inlined]\n",
      "  [8] _pycall!(ret::PyCall.PyObject, o::PyCall.PyObject, args::Tuple{Corpus{StringDocument{String}}}, nargs::Int64, kw::Ptr{Nothing})\n",
      "    @ PyCall C:\\Users\\Jahnavi Ramagiri\\.julia\\packages\\PyCall\\ygXW2\\src\\pyfncall.jl:29\n",
      "  [9] _pycall!\n",
      "    @ C:\\Users\\Jahnavi Ramagiri\\.julia\\packages\\PyCall\\ygXW2\\src\\pyfncall.jl:11 [inlined]\n",
      " [10] #_#114\n",
      "    @ C:\\Users\\Jahnavi Ramagiri\\.julia\\packages\\PyCall\\ygXW2\\src\\pyfncall.jl:86 [inlined]\n",
      " [11] (::PyCall.PyObject)(args::Corpus{StringDocument{String}})\n",
      "    @ PyCall C:\\Users\\Jahnavi Ramagiri\\.julia\\packages\\PyCall\\ygXW2\\src\\pyfncall.jl:86\n",
      " [12] fit_transform!(py_model::PyCall.PyObject, args::Corpus{StringDocument{String}}; kwargs::Base.Pairs{Symbol, Union{}, Tuple{}, NamedTuple{(), Tuple{}}})\n",
      "    @ ScikitLearn.Skcore C:\\Users\\Jahnavi Ramagiri\\.julia\\packages\\ScikitLearn\\7Csem\\src\\Skcore.jl:102\n",
      " [13] fit_transform!(py_model::PyCall.PyObject, args::Corpus{StringDocument{String}})\n",
      "    @ ScikitLearn.Skcore C:\\Users\\Jahnavi Ramagiri\\.julia\\packages\\ScikitLearn\\7Csem\\src\\Skcore.jl:102\n",
      " [14] top-level scope\n",
      "    @ c:\\Users\\Jahnavi Ramagiri\\Desktop\\Julia\\preprocessing.ipynb:1"
     ]
    }
   ],
   "source": [
    "fit_transform!(cv, crps) # Check Error"
   ]
  },
  {
   "cell_type": "code",
   "execution_count": 136,
   "metadata": {},
   "outputs": [
    {
     "name": "stderr",
     "output_type": "stream",
     "text": [
      "\u001b[32m\u001b[1m   Resolving\u001b[22m\u001b[39m package versions...\n"
     ]
    },
    {
     "name": "stderr",
     "output_type": "stream",
     "text": [
      "\u001b[32m\u001b[1m   Installed\u001b[22m\u001b[39m Gumbo_jll ─ v0.10.2+0\n",
      "\u001b[32m\u001b[1m   Installed\u001b[22m\u001b[39m Gumbo ───── v0.8.2\n"
     ]
    },
    {
     "name": "stderr",
     "output_type": "stream",
     "text": [
      "\u001b[32m\u001b[1m   Installed\u001b[22m\u001b[39m Cascadia ── v1.0.2\n"
     ]
    },
    {
     "name": "stderr",
     "output_type": "stream",
     "text": [
      "\u001b[32m\u001b[1m    Updating\u001b[22m\u001b[39m `C:\\Users\\Jahnavi Ramagiri\\.julia\\environments\\v1.8\\Project.toml`\n"
     ]
    },
    {
     "name": "stderr",
     "output_type": "stream",
     "text": [
      " \u001b[90m [54eefc05] \u001b[39m\u001b[92m+ Cascadia v1.0.2\u001b[39m\n",
      "\u001b[32m\u001b[1m    Updating\u001b[22m\u001b[39m `C:\\Users\\Jahnavi Ramagiri\\.julia\\environments\\v1.8\\Manifest.toml`"
     ]
    },
    {
     "name": "stderr",
     "output_type": "stream",
     "text": [
      "\n",
      " \u001b[90m [54eefc05] \u001b[39m\u001b[92m+ Cascadia v1.0.2\u001b[39m\n",
      " \u001b[90m [708ec375] \u001b[39m\u001b[92m+ Gumbo v0.8.2\u001b[39m\n",
      " \u001b[90m [528830af] \u001b[39m\u001b[92m+ Gumbo_jll v0.10.2+0\u001b[39m\n"
     ]
    },
    {
     "name": "stderr",
     "output_type": "stream",
     "text": [
      "\u001b[32m\u001b[1mPrecompiling\u001b[22m\u001b[39m"
     ]
    },
    {
     "name": "stderr",
     "output_type": "stream",
     "text": [
      " "
     ]
    },
    {
     "name": "stderr",
     "output_type": "stream",
     "text": [
      "project...\n"
     ]
    },
    {
     "name": "stderr",
     "output_type": "stream",
     "text": [
      "\u001b[32m  ✓ \u001b[39m\u001b[90mGumbo_jll\u001b[39m"
     ]
    },
    {
     "name": "stderr",
     "output_type": "stream",
     "text": [
      "\n"
     ]
    },
    {
     "name": "stderr",
     "output_type": "stream",
     "text": [
      "\u001b[32m  ✓ \u001b[39m\u001b[90mGumbo\u001b[39m\n"
     ]
    },
    {
     "name": "stderr",
     "output_type": "stream",
     "text": [
      "\u001b[32m  ✓ \u001b[39mCascadia\n",
      "  3 dependencies successfully precompiled in 14 seconds. 99 already precompiled.\n"
     ]
    },
    {
     "name": "stderr",
     "output_type": "stream",
     "text": [
      "\u001b[32m\u001b[1m   Resolving\u001b[22m\u001b[39m package versions..."
     ]
    },
    {
     "name": "stderr",
     "output_type": "stream",
     "text": [
      "\n",
      "\u001b[32m\u001b[1m    Updating\u001b[22m\u001b[39m `C:\\Users\\Jahnavi Ramagiri\\.julia\\environments\\v1.8\\Project.toml`\n",
      " \u001b[90m [cd3eb016] \u001b[39m\u001b[92m+ HTTP v1.5.3\u001b[39m\n",
      "\u001b[32m\u001b[1m  No Changes\u001b[22m\u001b[39m to `C:\\Users\\Jahnavi Ramagiri\\.julia\\environments\\v1.8\\Manifest.toml`"
     ]
    },
    {
     "name": "stderr",
     "output_type": "stream",
     "text": [
      "\n"
     ]
    },
    {
     "name": "stderr",
     "output_type": "stream",
     "text": [
      "\u001b[32m\u001b[1m   Resolving\u001b[22m\u001b[39m package versions..."
     ]
    },
    {
     "name": "stderr",
     "output_type": "stream",
     "text": [
      "\n",
      "\u001b[32m\u001b[1m    Updating\u001b[22m\u001b[39m `C:\\Users\\Jahnavi Ramagiri\\.julia\\environments\\v1.8\\Project.toml`\n",
      " \u001b[90m [708ec375] \u001b[39m\u001b[92m+ Gumbo v0.8.2\u001b[39m\n",
      "\u001b[32m\u001b[1m  No Changes\u001b[22m\u001b[39m to `C:\\Users\\Jahnavi Ramagiri\\.julia\\environments\\v1.8\\Manifest.toml`\n"
     ]
    }
   ],
   "source": [
    "Pkg.add(\"Cascadia\")\n",
    "Pkg.add(\"HTTP\")\n",
    "Pkg.add(\"Gumbo\")"
   ]
  },
  {
   "cell_type": "markdown",
   "metadata": {},
   "source": [
    "Using Embeddings"
   ]
  },
  {
   "cell_type": "code",
   "execution_count": 137,
   "metadata": {},
   "outputs": [
    {
     "name": "stdout",
     "output_type": "stream",
     "text": [
      "This program has requested access to the data dependency word2vec 300d.\n",
      "which is not currently installed. It can be installed automatically, and you will not see this message again.\n",
      "\n",
      "Pretrained Word2Vec Word emeddings\n",
      "Website: https://code.google.com/archive/p/word2vec/\n",
      "Author: Mikolov et al.\n",
      "Year: 2013\n",
      "\n",
      "Pre-trained vectors trained on part of Google News dataset (about 100 billion words). The model contains 300-dimensional vectors for 3 million words and phrases.\n",
      "\n",
      "Paper:\n",
      "    Tomas Mikolov, Ilya Sutskever, Kai Chen, Greg Corrado, and Jeffrey Dean. Distributed Representations of Words and Phrases and their Compositionality. In Proceedings of NIPS, 2013.\n",
      "\n",
      "\n",
      "\n",
      "Do you want to download the dataset from https://s3.amazonaws.com/dl4j-distribution/GoogleNews-vectors-negative300.bin.gz to \"C:\\Users\\Jahnavi Ramagiri\\.julia\\datadeps\\word2vec 300d\"?\n"
     ]
    },
    {
     "name": "stdout",
     "output_type": "stream",
     "text": [
      "[y/n]\n"
     ]
    },
    {
     "ename": "UndefVarError",
     "evalue": "UndefVarError: execute_msg not defined",
     "output_type": "error",
     "traceback": [
      "UndefVarError: execute_msg not defined\n",
      "\n",
      "Stacktrace:\n",
      "  [1] readprompt(prompt::String; password::Bool)\n",
      "    @ VSCodeServer.IJuliaCore c:\\Users\\Jahnavi Ramagiri\\.vscode\\extensions\\julialang.language-julia-1.38.2\\scripts\\packages\\IJuliaCore\\src\\stdio.jl:190\n",
      "  [2] readprompt\n",
      "    @ c:\\Users\\Jahnavi Ramagiri\\.vscode\\extensions\\julialang.language-julia-1.38.2\\scripts\\packages\\IJuliaCore\\src\\stdio.jl:188 [inlined]\n",
      "  [3] readline(io::VSCodeServer.IJuliaCore.IJuliaStdio{Base.PipeEndpoint, typeof(VSCodeServer.io_send_callback)})\n",
      "    @ VSCodeServer.IJuliaCore c:\\Users\\Jahnavi Ramagiri\\.vscode\\extensions\\julialang.language-julia-1.38.2\\scripts\\packages\\IJuliaCore\\src\\stdio.jl:232\n",
      "  [4] better_readline(stream::VSCodeServer.IJuliaCore.IJuliaStdio{Base.PipeEndpoint, typeof(VSCodeServer.io_send_callback)})\n",
      "    @ DataDeps C:\\Users\\Jahnavi Ramagiri\\.julia\\packages\\DataDeps\\ae6dT\\src\\util.jl:60\n",
      "  [5] better_readline()\n",
      "    @ DataDeps C:\\Users\\Jahnavi Ramagiri\\.julia\\packages\\DataDeps\\ae6dT\\src\\util.jl:55\n",
      "  [6] input_choice(::String, ::Char, ::Vararg{Char})\n",
      "    @ DataDeps C:\\Users\\Jahnavi Ramagiri\\.julia\\packages\\DataDeps\\ae6dT\\src\\util.jl:82\n",
      "  [7] input_bool\n",
      "    @ C:\\Users\\Jahnavi Ramagiri\\.julia\\packages\\DataDeps\\ae6dT\\src\\util.jl:70 [inlined]\n",
      "  [8] check_if_accept_terms(datadep::DataDeps.DataDep{String, String, typeof(DataDeps.fetch_default), typeof(DataDeps.unpack)}, localpath::String, remotepath::String)\n",
      "    @ DataDeps C:\\Users\\Jahnavi Ramagiri\\.julia\\packages\\DataDeps\\ae6dT\\src\\resolution_automatic.jl:180\n",
      "  [9] accept_terms\n",
      "    @ C:\\Users\\Jahnavi Ramagiri\\.julia\\packages\\DataDeps\\ae6dT\\src\\resolution_automatic.jl:163 [inlined]\n",
      " [10] download(datadep::DataDeps.DataDep{String, String, typeof(DataDeps.fetch_default), typeof(DataDeps.unpack)}, localdir::String; remotepath::String, i_accept_the_terms_of_use::Nothing, skip_checksum::Bool)\n",
      "    @ DataDeps C:\\Users\\Jahnavi Ramagiri\\.julia\\packages\\DataDeps\\ae6dT\\src\\resolution_automatic.jl:72\n",
      " [11] download\n",
      "    @ C:\\Users\\Jahnavi Ramagiri\\.julia\\packages\\DataDeps\\ae6dT\\src\\resolution_automatic.jl:63 [inlined]\n",
      " [12] handle_missing\n",
      "    @ C:\\Users\\Jahnavi Ramagiri\\.julia\\packages\\DataDeps\\ae6dT\\src\\resolution_automatic.jl:10 [inlined]\n",
      " [13] _resolve\n",
      "    @ C:\\Users\\Jahnavi Ramagiri\\.julia\\packages\\DataDeps\\ae6dT\\src\\resolution.jl:83 [inlined]\n",
      " [14] resolve(datadep::DataDeps.DataDep{String, String, typeof(DataDeps.fetch_default), typeof(DataDeps.unpack)}, inner_filepath::String, calling_filepath::String)\n",
      "    @ DataDeps C:\\Users\\Jahnavi Ramagiri\\.julia\\packages\\DataDeps\\ae6dT\\src\\resolution.jl:29\n",
      " [15] resolve(datadep_name::String, inner_filepath::String, calling_filepath::String)\n",
      "    @ DataDeps C:\\Users\\Jahnavi Ramagiri\\.julia\\packages\\DataDeps\\ae6dT\\src\\resolution.jl:54\n",
      " [16] resolve\n",
      "    @ C:\\Users\\Jahnavi Ramagiri\\.julia\\packages\\DataDeps\\ae6dT\\src\\resolution.jl:73 [inlined]\n",
      " [17] load_datadep\n",
      "    @ C:\\Users\\Jahnavi Ramagiri\\.julia\\packages\\Embeddings\\mvhxN\\src\\Embeddings.jl:30 [inlined]\n",
      " [18] |>\n",
      "    @ .\\operators.jl:911 [inlined]\n",
      " [19] default_file\n",
      "    @ C:\\Users\\Jahnavi Ramagiri\\.julia\\packages\\Embeddings\\mvhxN\\src\\Embeddings.jl:32 [inlined]\n",
      " [20] load_embeddings(::Type{Word2Vec}, default_file_number::Int64; max_vocab_size::Int64, keep_words::Set{Any})\n",
      "    @ Embeddings C:\\Users\\Jahnavi Ramagiri\\.julia\\packages\\Embeddings\\mvhxN\\src\\Embeddings.jl:90\n",
      " [21] load_embeddings (repeats 2 times)\n",
      "    @ C:\\Users\\Jahnavi Ramagiri\\.julia\\packages\\Embeddings\\mvhxN\\src\\Embeddings.jl:85 [inlined]\n",
      " [22] top-level scope\n",
      "    @ c:\\Users\\Jahnavi Ramagiri\\Desktop\\Julia\\preprocessing.ipynb:2"
     ]
    }
   ],
   "source": [
    "using Embeddings # Check Error\n",
    "const embtable = load_embeddings(Word2Vec) # or load_embeddings(FastText_Text) or ...\n",
    "\n",
    "const get_word_index = Dict(word=>ii for (ii,word) in enumerate(embtable.vocab))\n",
    "\n",
    "function get_embedding(word)\n",
    "    ind = get_word_index[word]\n",
    "    emb = embtable.embeddings[:,ind]\n",
    "    return emb\n",
    "end"
   ]
  },
  {
   "cell_type": "markdown",
   "metadata": {},
   "source": [
    "Semantic Analysis -- DocumentTermMatrix and LDA"
   ]
  },
  {
   "cell_type": "code",
   "execution_count": 57,
   "metadata": {},
   "outputs": [
    {
     "data": {
      "text/plain": [
       "A Corpus with 2 documents:\n",
       " * 2 StringDocument's\n",
       " * 0 FileDocument's\n",
       " * 0 TokenDocument's\n",
       " * 0 NGramDocument's\n",
       "\n",
       "Corpus's lexicon contains 0 tokens\n",
       "Corpus's index contains 0 tokens"
      ]
     },
     "metadata": {},
     "output_type": "display_data"
    }
   ],
   "source": [
    "crps = Corpus(str_list)"
   ]
  },
  {
   "cell_type": "code",
   "execution_count": 59,
   "metadata": {},
   "outputs": [],
   "source": [
    "update_lexicon!(crps)"
   ]
  },
  {
   "cell_type": "code",
   "execution_count": 62,
   "metadata": {},
   "outputs": [
    {
     "data": {
      "text/plain": [
       "Dict{String, Int64} with 647 entries:\n",
       "  \"1\"             => 8\n",
       "  \"Requirements\"  => 1\n",
       "  \"Jahnavi\"       => 2\n",
       "  \"Vector\"        => 1\n",
       "  \"layer\"         => 1\n",
       "  \"whose\"         => 1\n",
       "  \"misclassified\" => 1\n",
       "  \"computational\" => 1\n",
       "  \"treemasterS\"   => 2\n",
       "  \"Client\"        => 1\n",
       "  \"and\"           => 39\n",
       "  \"least\"         => 1\n",
       "  \"IIT\"           => 1\n",
       "  \"17\"            => 1\n",
       "  \"scratch\"       => 1\n",
       "  \"or\"            => 2\n",
       "  \"Aflac\"         => 1\n",
       "  \"We\"            => 1\n",
       "  \"Structures\"    => 1\n",
       "  ⋮               => ⋮"
      ]
     },
     "metadata": {},
     "output_type": "display_data"
    }
   ],
   "source": [
    "lexicon(crps)"
   ]
  },
  {
   "cell_type": "code",
   "execution_count": 61,
   "metadata": {},
   "outputs": [
    {
     "data": {
      "text/plain": [
       "A Corpus with 2 documents:\n",
       " * 2 StringDocument's\n",
       " * 0 FileDocument's\n",
       " * 0 TokenDocument's\n",
       " * 0 NGramDocument's\n",
       "\n",
       "Corpus's lexicon contains 647 tokens\n",
       "Corpus's index contains 0 tokens"
      ]
     },
     "metadata": {},
     "output_type": "display_data"
    }
   ],
   "source": [
    "\n",
    "crps"
   ]
  },
  {
   "cell_type": "code",
   "execution_count": 71,
   "metadata": {},
   "outputs": [
    {
     "data": {
      "text/plain": [
       "\"Machine Learning Engineer Job Description Template We are looking for highly capable machine learning engineer to optimize our machine learning systems You will be evaluating existing machine learning ML processes performing statistical analysis to resolve data set prob\" ⋯ 1590 bytes ⋯ \"ibraries data structures data modeling and software architecture Indepth knowledge of mathematics statistics and algorithms Superb analytical and problemsolving abilities Great communication and collaboration skills Excellent time management and organizational abilities\""
      ]
     },
     "metadata": {},
     "output_type": "display_data"
    }
   ],
   "source": [
    "s1 = text(str_list[1])\n",
    "s2 = text(str_list[2])"
   ]
  },
  {
   "cell_type": "code",
   "execution_count": 79,
   "metadata": {},
   "outputs": [],
   "source": [
    "crps2 = Corpus(AbstractDocument[str_list[1],str_list[2]])\n",
    "prepare!(crps2, strip_punctuation);\n",
    "update_lexicon!(crps2);"
   ]
  },
  {
   "cell_type": "code",
   "execution_count": 86,
   "metadata": {},
   "outputs": [
    {
     "data": {
      "text/plain": [
       "1-element Vector{Vector{String}}:\n",
       " [\"1\", \"Requirements\", \"Jahnavi\", \"Vector\", \"layer\", \"whose\", \"misclassified\", \"computational\", \"treemasterS\", \"Client\"  …  \"Documenting\", \"Adjudication\", \"FrameWork\", \"linguistics\", \"part\", \"Of\", \"Solutions\", \"Basic\", \"Mail\", \"recognition\"]"
      ]
     },
     "metadata": {},
     "output_type": "display_data"
    }
   ],
   "source": [
    "key_list = [collect(keys(crps2.lexicon))]"
   ]
  },
  {
   "cell_type": "code",
   "execution_count": 89,
   "metadata": {},
   "outputs": [
    {
     "data": {
      "text/plain": [
       "A 2 X 647 DocumentTermMatrix"
      ]
     },
     "metadata": {},
     "output_type": "display_data"
    }
   ],
   "source": [
    "# M = DocumentTermMatrix{Float32}(crps2, collect(keys(crps2.lexicon)))\n",
    "M = DocumentTermMatrix(crps2)"
   ]
  },
  {
   "cell_type": "code",
   "execution_count": 125,
   "metadata": {},
   "outputs": [
    {
     "data": {
      "text/plain": [
       "A 2 X 647 DocumentTermMatrix"
      ]
     },
     "metadata": {},
     "output_type": "display_data"
    }
   ],
   "source": [
    "M"
   ]
  },
  {
   "cell_type": "code",
   "execution_count": 107,
   "metadata": {},
   "outputs": [
    {
     "data": {
      "text/plain": [
       "SVD{Float64, Float64, Matrix{Float64}, Vector{Float64}}\n",
       "U factor:\n",
       "2×2 Matrix{Float64}:\n",
       " 0.0  1.0\n",
       " 1.0  0.0\n",
       "singular values:\n",
       "2-element Vector{Float64}:\n",
       " 0.0503476512280036\n",
       " 0.03620347682453294\n",
       "Vt factor:\n",
       "2×647 Matrix{Float64}:\n",
       " 0.0        0.0        0.0        0.0        …  0.0       0.0        0.0\n",
       " 0.0213443  0.0213443  0.0213443  0.0213443     0.192099  0.0213443  0.341509"
      ]
     },
     "metadata": {},
     "output_type": "display_data"
    }
   ],
   "source": [
    "using TextAnalysis\n",
    "lm = lsa(M)"
   ]
  },
  {
   "cell_type": "code",
   "execution_count": 151,
   "metadata": {},
   "outputs": [
    {
     "data": {
      "text/plain": [
       "(sparse([2, 1, 1, 1, 1, 1, 2, 1, 1, 2  …  2, 1, 2, 1, 2, 2, 2, 1, 2, 1], [1, 2, 3, 4, 5, 6, 6, 7, 8, 9  …  638, 639, 640, 641, 642, 643, 644, 645, 646, 647], [0.002074688796680498, 0.0014492753623188406, 0.0014492753623188406, 0.0014492753623188406, 0.0014492753623188406, 0.008695652173913044, 0.004149377593360996, 0.002898550724637681, 0.0014492753623188406, 0.002074688796680498  …  0.012448132780082987, 0.0014492753623188406, 0.002074688796680498, 0.0014492753623188406, 0.002074688796680498, 0.002074688796680498, 0.002074688796680498, 0.013043478260869565, 0.002074688796680498, 0.02318840579710145], 2, 647), [0.7692307692307693 0.0; 0.23076923076923078 1.0])"
      ]
     },
     "metadata": {},
     "output_type": "display_data"
    }
   ],
   "source": [
    "ϕ, θ  = lda(M, 2, 1000, 0.1, 0.1)"
   ]
  },
  {
   "cell_type": "code",
   "execution_count": 127,
   "metadata": {},
   "outputs": [
    {
     "name": "stderr",
     "output_type": "stream",
     "text": [
      "\u001b[32m\u001b[1m   Resolving\u001b[22m\u001b[39m package versions..."
     ]
    },
    {
     "name": "stderr",
     "output_type": "stream",
     "text": [
      "\n",
      "\u001b[32m\u001b[1m    Updating\u001b[22m\u001b[39m `C:\\Users\\Jahnavi Ramagiri\\.julia\\environments\\v1.8\\Project.toml`\n"
     ]
    },
    {
     "name": "stderr",
     "output_type": "stream",
     "text": [
      " \u001b[90m [8ef0a80b] \u001b[39m\u001b[92m+ Languages v0.4.3\u001b[39m\n"
     ]
    },
    {
     "name": "stderr",
     "output_type": "stream",
     "text": [
      "\u001b[32m\u001b[1m  No Changes\u001b[22m\u001b[39m to `C:\\Users\\Jahnavi Ramagiri\\.julia\\environments\\v1.8\\Manifest.toml`\n"
     ]
    },
    {
     "name": "stderr",
     "output_type": "stream",
     "text": [
      "WARNING: using Languages.name in module Main conflicts with an existing identifier.\n"
     ]
    }
   ],
   "source": [
    "Pkg.add(\"Languages\")\n",
    "using Languages"
   ]
  },
  {
   "cell_type": "code",
   "execution_count": 138,
   "metadata": {},
   "outputs": [],
   "source": [
    "using LSHFunctions, LinearAlgebra"
   ]
  },
  {
   "cell_type": "code",
   "execution_count": 128,
   "metadata": {},
   "outputs": [
    {
     "ename": "UndefVarError",
     "evalue": "UndefVarError: LSAModel not defined",
     "output_type": "error",
     "traceback": [
      "UndefVarError: LSAModel not defined\n",
      "\n",
      "Stacktrace:\n",
      " [1] top-level scope\n",
      "   @ c:\\Users\\Jahnavi Ramagiri\\Desktop\\Julia\\preprocessing.ipynb:1"
     ]
    }
   ],
   "source": [
    "lm = LSAModel(M, k=4, stats=:tfidf)"
   ]
  },
  {
   "cell_type": "code",
   "execution_count": 132,
   "metadata": {},
   "outputs": [
    {
     "data": {
      "text/plain": [
       "2×647 SparseArrays.SparseMatrixCSC{Float64, Int64} with 679 stored entries:\n",
       "⠉⠉⠙⠛⠛⠉⠉⠋⠛⠛⠋⠛⠙⠛⠋⠉⠙⠛⠉⠛⠛⠙⠛⠛⠛⠛⠛⠛⠛⠛⠛⠛⠛⠛⠛⠛⠛⠛⠛⠛"
      ]
     },
     "metadata": {},
     "output_type": "display_data"
    }
   ],
   "source": [
    "tf_idf(M)"
   ]
  },
  {
   "cell_type": "markdown",
   "metadata": {},
   "source": [
    "Cosine Similarity"
   ]
  },
  {
   "cell_type": "code",
   "execution_count": 149,
   "metadata": {},
   "outputs": [
    {
     "ename": "InexactError",
     "evalue": "InexactError: Int64(NaN)",
     "output_type": "error",
     "traceback": [
      "InexactError: Int64(NaN)\n",
      "\n",
      "Stacktrace:\n",
      "  [1] Int64\n",
      "    @ .\\float.jl:788 [inlined]\n",
      "  [2] convert\n",
      "    @ .\\number.jl:7 [inlined]\n",
      "  [3] fill!\n",
      "    @ .\\array.jl:351 [inlined]\n",
      "  [4] _map_notzeropres!(f::typeof(/), fillvalue::Float64, C::SparseArrays.SparseMatrixCSC{Int64, Int64}, A::SparseArrays.SparseMatrixCSC{Int64, Int64}, B::SparseArrays.SparseMatrixCSC{Float64, Int64})\n",
      "    @ SparseArrays.HigherOrderFns C:\\Users\\Jahnavi Ramagiri\\AppData\\Local\\Programs\\Julia-1.8.0\\share\\julia\\stdlib\\v1.8\\SparseArrays\\src\\higherorderfns.jl:344\n",
      "  [5] _noshapecheck_map!\n",
      "    @ C:\\Users\\Jahnavi Ramagiri\\AppData\\Local\\Programs\\Julia-1.8.0\\share\\julia\\stdlib\\v1.8\\SparseArrays\\src\\higherorderfns.jl:160 [inlined]\n",
      "  [6] _copyto!\n",
      "    @ C:\\Users\\Jahnavi Ramagiri\\AppData\\Local\\Programs\\Julia-1.8.0\\share\\julia\\stdlib\\v1.8\\SparseArrays\\src\\higherorderfns.jl:1047 [inlined]\n",
      "  [7] copyto!\n",
      "    @ C:\\Users\\Jahnavi Ramagiri\\AppData\\Local\\Programs\\Julia-1.8.0\\share\\julia\\stdlib\\v1.8\\SparseArrays\\src\\higherorderfns.jl:1043 [inlined]\n",
      "  [8] materialize!\n",
      "    @ .\\broadcast.jl:871 [inlined]\n",
      "  [9] materialize!(dest::SparseArrays.SparseMatrixCSC{Int64, Int64}, bc::Base.Broadcast.Broadcasted{SparseArrays.HigherOrderFns.SparseMatStyle, Nothing, typeof(/), Tuple{SparseArrays.SparseMatrixCSC{Int64, Int64}, SparseArrays.SparseMatrixCSC{Float64, Int64}}})\n",
      "    @ Base.Broadcast .\\broadcast.jl:868\n",
      " [10] top-level scope\n",
      "    @ c:\\Users\\Jahnavi Ramagiri\\Desktop\\Julia\\preprocessing.ipynb:5"
     ]
    }
   ],
   "source": [
    "cs = M[:] * M[:]'\n",
    "d = sqrt.(diag(cs))\n",
    "# prevent division by zero  (only occurs for empty documents)\n",
    "# d[findall(iszero, d)] .= 1\n",
    "cs .= cs ./ (d * d')"
   ]
  }
 ],
 "metadata": {
  "kernelspec": {
   "display_name": "Julia 1.8.0",
   "language": "julia",
   "name": "julia-1.8"
  },
  "language_info": {
   "file_extension": ".jl",
   "mimetype": "application/julia",
   "name": "julia",
   "version": "1.8.0"
  },
  "orig_nbformat": 4
 },
 "nbformat": 4,
 "nbformat_minor": 2
}
