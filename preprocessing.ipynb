{
 "cells": [
  {
   "cell_type": "code",
   "execution_count": null,
   "metadata": {},
   "outputs": [],
   "source": []
  },
  {
   "cell_type": "markdown",
   "metadata": {},
   "source": [
    "Get input\n",
    "Preprocess\n",
    "vectorize\n",
    "similiarity\n"
   ]
  },
  {
   "cell_type": "code",
   "execution_count": 2,
   "metadata": {},
   "outputs": [
    {
     "name": "stderr",
     "output_type": "stream",
     "text": [
      "\u001b[32m\u001b[1m    Updating\u001b[22m\u001b[39m registry at `C:\\Users\\Jahnavi Ramagiri\\.julia\\registries\\General.toml`\n"
     ]
    },
    {
     "name": "stderr",
     "output_type": "stream",
     "text": [
      "\u001b[32m\u001b[1m   Resolving\u001b[22m\u001b[39m package versions..."
     ]
    },
    {
     "name": "stderr",
     "output_type": "stream",
     "text": [
      "\n",
      "\u001b[32m\u001b[1m  No Changes\u001b[22m\u001b[39m to `C:\\Users\\Jahnavi Ramagiri\\.julia\\environments\\v1.8\\Project.toml`\n",
      "\u001b[32m\u001b[1m  No Changes\u001b[22m\u001b[39m to `C:\\Users\\Jahnavi Ramagiri\\.julia\\environments\\v1.8\\Manifest.toml`\n"
     ]
    }
   ],
   "source": [
    "import Pkg\n",
    "Pkg.add(\"PDFIO\")"
   ]
  },
  {
   "cell_type": "code",
   "execution_count": 3,
   "metadata": {},
   "outputs": [],
   "source": [
    "using PDFIO\n",
    "using TextAnalysis "
   ]
  },
  {
   "cell_type": "code",
   "execution_count": 4,
   "metadata": {},
   "outputs": [
    {
     "data": {
      "text/plain": [
       "getPDFText"
      ]
     },
     "metadata": {},
     "output_type": "display_data"
    }
   ],
   "source": [
    "\"\"\"\n",
    "​```\n",
    "    getPDFText(src, out) -> Dict \n",
    "​```\n",
    "- src - Input PDF file path from where text is to be extracted\n",
    "- out - Output TXT file path where the output will be written\n",
    "return - A dictionary containing metadata of the document\n",
    "\"\"\"\n",
    "function getPDFText(src, out)\n",
    "    # handle that can be used for subsequence operations on the document.\n",
    "    doc = pdDocOpen(src)\n",
    "    s = \"\"\n",
    "    \n",
    "    # Metadata extracted from the PDF document. \n",
    "    # This value is retained and returned as the return from the function. \n",
    "    docinfo = pdDocGetInfo(doc) \n",
    "    open(out, \"w\") do io\n",
    "    \n",
    "        # Returns number of pages in the document       \n",
    "        npage = pdDocGetPageCount(doc)\n",
    "\n",
    "        for i=1:npage\n",
    "            s1 = \"\"\n",
    "        \n",
    "            # handle to the specific page given the number index. \n",
    "            page = pdDocGetPage(doc, i)\n",
    "            # print(page)\n",
    "            \n",
    "            # Extract text from the page and write it to the output file.\n",
    "            # io_ = IOBuffer()\n",
    "            pdPageExtractText(io, page)\n",
    "            # s1 = String(take!(io_))\n",
    "            # print(s1)\n",
    "            # s = s*s1\n",
    "            # s = s * s1\n",
    "\n",
    "        end\n",
    "    end\n",
    "    # Close the document handle. \n",
    "    # The doc handle should not be used after this call\n",
    "    pdDocClose(doc)\n",
    "    return docinfo\n",
    "end"
   ]
  },
  {
   "cell_type": "code",
   "execution_count": 17,
   "metadata": {},
   "outputs": [
    {
     "data": {
      "text/plain": [
       "preprocess_string (generic function with 1 method)"
      ]
     },
     "metadata": {},
     "output_type": "display_data"
    }
   ],
   "source": [
    "function preprocess_string(str, flags)\n",
    "    str_doc = StringDocument(str)\n",
    "    # prepare!(str_doc, strip_punctuation)\n",
    "    prepare!(str_doc, flags)\n",
    "    return str_doc\n",
    "end\n"
   ]
  },
  {
   "cell_type": "code",
   "execution_count": 22,
   "metadata": {},
   "outputs": [
    {
     "data": {
      "text/plain": [
       "process_file (generic function with 1 method)"
      ]
     },
     "metadata": {},
     "output_type": "display_data"
    }
   ],
   "source": [
    "function process_file(resume_path, jd_path)\n",
    "    \n",
    "    out_path = \"C:\\\\Users\\\\Jahnavi Ramagiri\\\\Desktop\\\\Julia\\\\sample.txt\"\n",
    "    flags = strip_punctuation|strip_articles|strip_punctuation|strip_whitespace\n",
    "\n",
    "    resume_dict = getPDFText(resume_path,out_path)\n",
    "    print(\"PDF Processed and stored at $out_path\")\n",
    "    \n",
    "\n",
    "    f = open(out_path)    \n",
    "    s_resume = read(f, String)\n",
    "    pp_resume = preprocess_string(s_resume, flags)\n",
    "    print(\"Preprocessed Resume $pp_resume\")\n",
    "    text(pp_resume)\n",
    "\n",
    "    jd_dict = getPDFText(jd_path,out_path)\n",
    "    print(\"PDF Processed and stored at $out_path\")\n",
    "    \n",
    "\n",
    "    f = open(out_path)    \n",
    "    s_jd = read(f, String)\n",
    "    pp_jd = preprocess_string(s_jd, flags)\n",
    "    print(\"Preprocessed Resume $pp_jd\")\n",
    "    text(pp_jd)\n",
    "\n",
    "\n",
    "end\n",
    "\n",
    "    "
   ]
  },
  {
   "cell_type": "code",
   "execution_count": 23,
   "metadata": {},
   "outputs": [
    {
     "name": "stdout",
     "output_type": "stream",
     "text": [
      "PDF Processed and stored at C:\\Users\\Jahnavi Ramagiri\\Desktop\\Julia\\sample.txtPreprocessed Resume A StringDocument{String}"
     ]
    },
    {
     "data": {
      "text/plain": [
       "\"Jahnavi Ramagiri Mail GitHub LinkedIn Contact 1 703 9814377 EDUCATION Masters of Science MS Computer Science 20222024 Specialization in Machine Intelligence and Cognition George Washington University Washington DC Bachelor of Engineering BE Electronics and Communication\" ⋯ 5443 bytes ⋯ \"01718 Contributed to establish Elearning facilities in 50 government schools in Hyderabad India for economically deprived school students 7 Documentation head for Gnanotsav 18 science fest for government school students Place Washington DC Jahnavi Ramagiri Date 08302022\""
      ]
     },
     "metadata": {},
     "output_type": "display_data"
    }
   ],
   "source": [
    "resume_path = \"C:\\\\Users\\\\Jahnavi Ramagiri\\\\Desktop\\\\Julia\\\\Resume_30082022.pdf\"\n",
    "# out = \"C:\\\\Users\\\\Jahnavi Ramagiri\\\\Desktop\\\\Julia\\\\sample.txt\"\n",
    "jd_path = \"\"\n",
    "\n",
    "process_file(resume_path, jd_path)\n",
    "\n",
    "# s1 = String(take!(io_))"
   ]
  }
 ],
 "metadata": {
  "kernelspec": {
   "display_name": "Julia 1.8.0",
   "language": "julia",
   "name": "julia-1.8"
  },
  "language_info": {
   "file_extension": ".jl",
   "mimetype": "application/julia",
   "name": "julia",
   "version": "1.8.0"
  },
  "orig_nbformat": 4
 },
 "nbformat": 4,
 "nbformat_minor": 2
}
